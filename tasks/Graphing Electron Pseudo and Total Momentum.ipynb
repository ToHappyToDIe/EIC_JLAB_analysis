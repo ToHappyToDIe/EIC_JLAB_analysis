{
 "cells": [
  {
   "cell_type": "markdown",
   "id": "96a015fa",
   "metadata": {},
   "source": [
    "### Formulas\n",
    "$p_x$, $p_y$, and $p_z$ are the components of the momentum and the only given variables. $p$ represents the total momentum.\n",
    "\n",
    "$$p = \\sqrt(x^2 + y^2 + z^2)$$\n",
    "\n",
    "$\\theta$ represents the xz angle.\n",
    "\n",
    "$$\\theta = \\arccos(p_z / p)$$\n",
    "\n",
    "$\\eta$ represents the pseudo-rapidity.\n",
    "\n",
    "$$\\eta = -\\ln[\\tan(\\frac{\\theta}{2})]$$\n",
    "\n",
    "$\\phi$ represents the xy angle. \n",
    "\n",
    "$$\\phi = sgn(p_y)\\arccos(\\frac{p_x}{\\sqrt{p_x^2 + p_y^2}})$$\n",
    "\n",
    "$p_T$ represents the transverse momentum. \n",
    "\n",
    "$$p_T = p\\sin(\\phi)$$"
   ]
  },
  {
   "cell_type": "code",
   "execution_count": 2,
   "id": "cd73810b",
   "metadata": {},
   "outputs": [
    {
     "ename": "SyntaxError",
     "evalue": "invalid syntax (3339861067.py, line 13)",
     "output_type": "error",
     "traceback": [
      "\u001b[1;36m  Cell \u001b[1;32mIn[2], line 13\u001b[1;36m\u001b[0m\n\u001b[1;33m    file_path = 'C:/Users/eholt/OneDrive/Documents/school/mentorship/EIC_JLAB_analysis/data/pythia8NCDIS_18x275_minQ2=10_beamEffects_xAngle=-0.025_hiDiv_1.0000.eicrecon.tree.edm4eic.root'events = ur.open(file_path + ':events')\u001b[0m\n\u001b[1;37m                                                                                                                                                                                           ^\u001b[0m\n\u001b[1;31mSyntaxError\u001b[0m\u001b[1;31m:\u001b[0m invalid syntax\n"
     ]
    }
   ],
   "source": [
    "import uproot as ur\n",
    "import awkward as ak\n",
    "import matplotlib.pyplot as plt\n",
    "from math import *\n",
    "\n",
    "def sgn(x):\n",
    "    # returns the sign of x\n",
    "    return x / abs(x)\n",
    "\n",
    "theta, ptotal ,pT, eta = [], [], [], []\n",
    "\n",
    "# get data from file\n",
    "file_path = 'C:/Users/eholt/OneDrive/Documents/school/mentorship/EIC_JLAB_analysis/data/pythia8NCDIS_18x275_minQ2=10_beamEffects_xAngle=-0.025_hiDiv_1.0000.eicrecon.tree.edm4eic.root'\n",
    "events = ur.open(file_path + ':events')\n",
    "reconstructed_charged_particles = events['ReconstructedChargedParticles'].arrays()\n",
    "\n",
    "# loop through events to find electrons and store their momentum\n",
    "for i, event in  enumerate(reconstructed_charged_particles['ReconstructedChargedParticles.PDG']):\n",
    "    for j, particle in  enumerate(event):\n",
    "        if particle == 11:\n",
    "            # find momentum components\n",
    "            px = reconstructed_charged_particles['ReconstructedChargedParticles.momentum.x'][i][j]\n",
    "            py = reconstructed_charged_particles['ReconstructedChargedParticles.momentum.y'][i][j]\n",
    "            pz = reconstructed_charged_particles['ReconstructedChargedParticles.momentum.z'][i][j]\n",
    "        \n",
    "            # find total momentum, theta and pseudo-rapidity ( eta)\n",
    "            ptotal.append(sqrt(px**2 + py**2 + pz**2))\n",
    "            theta.append(acos(pz / ptotal[-1]))\n",
    "            eta.append(-log(tan(theta[-1] / 2)))\n",
    "            \n",
    "            # find transverse momentum\n",
    "            phi = sgn(py) * acos(px / sqrt(px**2 + py**2))\n",
    "            pT.append(ptotal[-1] * sin(phi))\n",
    "            \n",
    "# graph results with 1D histograms\n",
    "\n",
    "fig1, hist1d = plt.subplots(nrows=2, ncols=2)\n",
    "\n",
    "hist1d[0, 0].hist(ptotal)\n",
    "hist1d[0, 0].set_xlabel(\"$p$\")\n",
    "hist1d[0, 1].hist(pT)\n",
    "hist1d[0, 1].set_xlabel(\"$p_T$\")\n",
    "hist1d[1, 0].hist(theta)\n",
    "# for some reason lowercase theta doesnt render properly\n",
    "hist1d[1, 0].set_xlabel(\"$\\Theta$\")\n",
    "hist1d[1, 1].hist(eta)\n",
    "hist1d[1, 1].set_xlabel(\"$\\eta$\")\n",
    "fig1.suptitle('Attributes of Collided Electrons', fontsize=15)\n",
    "plt.subplots_adjust(left=0.1, bottom=0.3, right=1.3, top=0.9, wspace=0.4, hspace=0.4)\n",
    "            \n",
    "# graph results with 2D histograms\n",
    "\n",
    "fig2, hist2d =  plt.subplots(nrows=1, ncols=2)\n",
    "\n",
    "hist2d[0].hist2d(eta, pT, cmin = 2, bins = 20)\n",
    "hist2d[0].set_xlabel(\"$\\eta$\")\n",
    "hist2d[0].set_ylabel(\"$p_T$\")\n",
    "hist2d[1].hist2d(eta, ptotal, cmin = 2, bins = 20)\n",
    "hist2d[1].set_xlabel(\"$\\eta$\")\n",
    "hist2d[1].set_ylabel(\"$p_{total}$\")\n",
    "\n",
    "fig2.suptitle('Comparing $\\eta$ and momentum', fontsize=15)\n",
    "\n",
    "plt.subplots_adjust(left=0.1, bottom=0.3, right=1.3, top=0.9, wspace=0.4, hspace=0.4)\n"
   ]
  },
  {
   "cell_type": "code",
   "execution_count": null,
   "id": "a38bf2d8",
   "metadata": {},
   "outputs": [],
   "source": []
  }
 ],
 "metadata": {
  "kernelspec": {
   "display_name": "Python 3 (ipykernel)",
   "language": "python",
   "name": "python3"
  },
  "language_info": {
   "codemirror_mode": {
    "name": "ipython",
    "version": 3
   },
   "file_extension": ".py",
   "mimetype": "text/x-python",
   "name": "python",
   "nbconvert_exporter": "python",
   "pygments_lexer": "ipython3",
   "version": "3.11.1"
  }
 },
 "nbformat": 4,
 "nbformat_minor": 5
}
