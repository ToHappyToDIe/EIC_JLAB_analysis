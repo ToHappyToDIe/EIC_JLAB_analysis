{
 "cells": [
  {
   "cell_type": "markdown",
   "id": "229ddc4a",
   "metadata": {},
   "source": [
    "# Analysing Different Methods of Finding $Q^2$ and $x$"
   ]
  },
  {
   "cell_type": "markdown",
   "metadata": {},
   "source": [
    "## Finding $x$ and $Q^2$ using eletron scattering and the final hadronic state"
   ]
  },
  {
   "cell_type": "code",
   "execution_count": 2,
   "id": "a2b5ed8d",
   "metadata": {},
   "outputs": [],
   "source": [
    "import numpy as np\n",
    "import uproot as ur\n",
    "import awkward as ak\n",
    "import matplotlib.pyplot as plt\n",
    "# 18X275 or 5x41\n",
    "E, Ep = 5, 41\n",
    "s = 4 * E * Ep\n",
    "xe, xjb, xdiff, epz = [], [], [], []\n",
    "\n",
    "\n",
    "eAngle, eEnergy, epz, pth = [], [], [], []\n",
    "\n",
    "Q2e, Q2jb = [],[]\n",
    "fileCount = 5\n",
    "\n",
    "# indexes of x we used\n",
    "indexes = [[] for i in range(fileCount)]\n",
    "\n",
    "# get data from file\n",
    "\n",
    "files = list(f'../../data/pythia8NCDIS_{E}x{Ep}_minQ2=10_beamEffects_xAngle=-0.025_hiDiv_1.084{i}.eicrecon.tree.edm4eic.root' for i in range(fileCount))\n",
    "\n",
    "for f, file_path in enumerate(files):\n",
    "    events = ur.open(file_path + ':events')\n",
    "    reconstructed_charged_particles = events['ReconstructedChargedParticles'].arrays()\n",
    "\n",
    "    # loop through events to find electrons and store their momentum\n",
    "    for i, event in  enumerate(reconstructed_charged_particles['ReconstructedChargedParticles.PDG']):\n",
    "        eh, pzh, pyh, pxh, hadrons = 0, 0, 0, 0, 0\n",
    "        \n",
    "        xevent = []\n",
    "        Q2event = []\n",
    "\n",
    "        angleEvents = []\n",
    "        energyEvents = []\n",
    "        \n",
    "        # if its just an electron, remove it\n",
    "        if 1 == len(event):\n",
    "            continue\n",
    "\n",
    "        \n",
    "        for j, particle in  enumerate(event):\n",
    "            # if its an electron, find with scattered electron method\n",
    "            if particle == 11:\n",
    "                \n",
    "                \n",
    "                m = reconstructed_charged_particles['ReconstructedChargedParticles.mass'][i][j]\n",
    "                kp1, kp2, kp3 = reconstructed_charged_particles['ReconstructedChargedParticles.momentum.x'][i][j], reconstructed_charged_particles['ReconstructedChargedParticles.momentum.y'][i][j], reconstructed_charged_particles['ReconstructedChargedParticles.momentum.z'][i][j]\n",
    "                \n",
    "                # check psuedo-rapidity\n",
    "                kp = np.sqrt(kp1**2 + kp2**2 + kp3**2)\n",
    "                theta = np.arccos(kp3/kp)\n",
    "                pr = -np.log(np.tan(theta / 2))\n",
    "                \n",
    "                # remove particles with -4 < psuedo-rapidity < 4\n",
    "                if abs(pr) < 4:\n",
    "\n",
    "                    theta = np.arctan2(np.sqrt(kp1**2 + kp2**2), kp3)\n",
    "\n",
    "                    k3 = -E\n",
    "                    m0 = 0.000511\n",
    "                    kp0 = np.sqrt(m0**2+(kp1**2+kp2**2+kp3**2))\n",
    "                    k0 = np.sqrt(m0**2 + k3**2)\n",
    "                    q0 = k0 - kp0\n",
    "                    q1 =    - kp1\n",
    "                    q2 =    - kp2\n",
    "                    q3 = k3 - kp3\n",
    "                    Q2 =-(q0**2 - q1**2 - q2**2 - q3**2) \n",
    "                    Q2event.append(Q2)\n",
    "\n",
    "\n",
    "                    alpha = -0.025\n",
    "                    p1 = Ep * np.sin(alpha)\n",
    "                    p2 = 0\n",
    "                    p3 = Ep * np.cos(alpha)\n",
    "                    p0 = np.sqrt(0.938**2 + p1**2 + p2**2 + p3**2)\n",
    "                    pq = p0 * q0 - p1 * q1 - p2 * q2 - p3 * q3\n",
    "                    xevent.append(0.5 * Q2 / pq)\n",
    "                    energyEvents.append(kp0)\n",
    "                    angleEvents.append(theta)\n",
    "\n",
    "                    \n",
    "                    \n",
    "                    \n",
    "            # get the sum of components from hadrons for JB method\n",
    "            elif abs(particle) == 211 or abs(particle) == 321 or particle == 2212:\n",
    "                \n",
    "                \n",
    "                m = reconstructed_charged_particles['ReconstructedChargedParticles.mass'][i][j]\n",
    "                kp1, kp2, kp3 = reconstructed_charged_particles['ReconstructedChargedParticles.momentum.x'][i][j], reconstructed_charged_particles['ReconstructedChargedParticles.momentum.y'][i][j], reconstructed_charged_particles['ReconstructedChargedParticles.momentum.z'][i][j]\n",
    "                \n",
    "                \n",
    "                kp = np.sqrt(kp1**2 + kp2**2 + kp3**2)\n",
    "                theta = np.arccos(kp3/kp)\n",
    "                pr = -np.log(np.tan(theta / 2))\n",
    "                \n",
    "                if abs(pr) < 4:\n",
    "                    hadrons += 1\n",
    "                    eh  += np.sqrt(m**2+(kp1**2+kp2**2+kp3**2))\n",
    "                    pxh += kp1\n",
    "                    pyh += kp2\n",
    "                    pzh += kp3\n",
    "                \n",
    "        \n",
    "        # add one per event\n",
    "        y = 1/(2 * E) * (eh - pzh)\n",
    "        Q2 = 1/(1 - y) * (pxh**2 + pyh**2)\n",
    "        \n",
    "        if hadrons != 0 and len(Q2event) != 0:\n",
    "            indexes[f].append(i)\n",
    "            epz.append((eh - pzh))\n",
    "            pth.append((pxh**2 + pyh**2))\n",
    "            eAngle.append(angleEvents[Q2event.index(max(Q2event))])\n",
    "            eEnergy.append(energyEvents[Q2event.index(max(Q2event))])\n",
    "\n",
    "\n",
    "            xjb.append(Q2 / (s * y))\n",
    "            xe.append(xevent[Q2event.index(max(Q2event))])\n",
    "\n",
    "            Q2jb.append(Q2)\n",
    "            Q2e.append(max(Q2event))\n",
    "\n"
   ]
  },
  {
   "cell_type": "markdown",
   "id": "254cac11",
   "metadata": {},
   "source": [
    "## Finding the true $x$ and $Q^2$"
   ]
  },
  {
   "cell_type": "code",
   "execution_count": 86,
   "id": "3ff1358d",
   "metadata": {},
   "outputs": [
    {
     "name": "stdout",
     "output_type": "stream",
     "text": [
      "5085\n"
     ]
    }
   ],
   "source": [
    "mc_particles = events['MCParticles'].arrays()\n",
    "\n",
    "Q2true, xtrue, ytrue = [], [], []\n",
    "# loop through all the indexes we got the other values from so we skip the same events\n",
    "for lst  in indexes:\n",
    "    for i in lst:\n",
    "        event = mc_particles['MCParticles.PDG'][i]\n",
    "        Q2tot, xtot, ytot = [], [], []\n",
    "        for j, particle in enumerate(event):\n",
    "            if mc_particles['MCParticles.generatorStatus'][i][j] != 1 or particle != 11:\n",
    "                continue\n",
    "            \n",
    "            psx, psy, psz = mc_particles['MCParticles.momentum.x'][i][j], mc_particles['MCParticles.momentum.y'][i][j], mc_particles['MCParticles.momentum.z'][i][j]\n",
    "            Eproton = np.sqrt(0.000511**2 + psx**2 + psy**2 + psz**2)\n",
    "            theta = np.arctan2(np.sqrt(psx**2 + psy**2), psz)\n",
    "            \n",
    "            Q2 = 2 * E * Eproton * (1 + np.cos(theta))\n",
    "            \n",
    "            y = 1 - 0.5 * Eproton / E * (1 - np.cos(theta))\n",
    "            x = Q2 / s / y\n",
    "            xtot.append(x)\n",
    "            Q2tot.append(Q2)\n",
    "            ytot.append(x)\n",
    "\n",
    "        # if we have multiple events, use one with largest Q2\n",
    "        if len(xtot) > 0:\n",
    "            xtrue.append(xtot[Q2tot.index(max(Q2tot))])\n",
    "            ytrue.append(ytot[Q2tot.index(max(Q2tot))])\n",
    "            Q2true.append(max(Q2tot))\n",
    "\n",
    "print(len(xtrue))"
   ]
  },
  {
   "cell_type": "code",
   "execution_count": 3,
   "id": "f36a34dd",
   "metadata": {},
   "outputs": [],
   "source": [
    "import math\n",
    "\n",
    "for i in range(len(xtrue)):\n",
    "    q2 = 2 * eEnergy[i] * E * (1 + math.cos(eAngle[i]))\n",
    "    y = (1/2/E) * epz[i]\n",
    "    q3 = 1/(1 - y) * pth[i]\n"
   ]
  },
  {
   "cell_type": "markdown",
   "id": "7f38a65e",
   "metadata": {},
   "source": [
    "## Training Artificial Neural Network"
   ]
  },
  {
   "cell_type": "markdown",
   "id": "5a14195d",
   "metadata": {},
   "source": [
    "### ANN Neurolab"
   ]
  },
  {
   "cell_type": "markdown",
   "id": "db1312c7",
   "metadata": {},
   "source": [
    "#### X"
   ]
  },
  {
   "cell_type": "code",
   "execution_count": 96,
   "metadata": {},
   "outputs": [
    {
     "name": "stdout",
     "output_type": "stream",
     "text": [
      "4\n",
      "4\n",
      "Training...\n",
      "Epoch: 1; Error: 60.353504139789294;\n",
      "Epoch: 2; Error: 48.92616734061937;\n",
      "Epoch: 3; Error: 43.7970814024208;\n",
      "The maximum number of train epochs is reached\n",
      "Testing...\n"
     ]
    }
   ],
   "source": [
    "import neurolab as nl\n",
    "\n",
    "# TODO: scale data, try different functions, relu, tan, tansig, import more data\n",
    "\n",
    "def normalization(x, minimax):\n",
    "    n = len(x[0])\n",
    "    print(n)\n",
    "    for i in range(n):\n",
    "        mn, mx = minimax[i]\n",
    "        for j in range(len(x)):\n",
    "\n",
    "            x[j][i] = (x[j][i] - mn) / (mx - mn)\n",
    "\n",
    "\n",
    "# Create the input and target data\n",
    "x_train = []\n",
    "y_train = []\n",
    "\n",
    "x_test = []\n",
    "y_test = []\n",
    "\n",
    "\n",
    "trainingData = int(len(Q2true) * 3/4)\n",
    "testingData = len(Q2true) - trainingData\n",
    "\n",
    "for i in range(trainingData):\n",
    "    x_train.append([eAngle[i].item(), \n",
    "            eEnergy[i].item(),\n",
    "            pth[i].item(),\n",
    "            epz[i].item()])\n",
    "\n",
    "    y_train.append([xtrue[i]])\n",
    "\n",
    "for i in range(trainingData, len(Q2true)):\n",
    "    x_test.append([eAngle[i].item(), \n",
    "            eEnergy[i].item(),\n",
    "            pth[i].item(),\n",
    "            epz[i].item()])\n",
    "\n",
    "    y_test.append([xtrue[i]])\n",
    "\n",
    "minmax = [[min(eAngle), max(eAngle)], [min(eEnergy), max(eEnergy)], [min(pth), max(pth)], [min(epz), max(epz)]]\n",
    "normalization(x_train, minmax)\n",
    "normalization(x_test, minmax)\n",
    "\n",
    "# Create the neural network\n",
    "net = nl.net.newff([[0,1], [0,1], [0,1],[0,1]], [24, 24, 1])\n",
    "net.init()\n",
    "\n",
    "\n",
    "\n",
    "# Train the neural network\n",
    "\n",
    "print(\"Training...\")\n",
    "accuracies = net.train(x_train, y_train, epochs=3, show = 1, goal = 0.02)\n",
    "\n",
    "# Test the neural network\n",
    "print(\"Testing...\")\n",
    "output = net.sim(x_test)\n",
    "\n",
    "# Print the output\n",
    "\n",
    "aiTrueX = []\n",
    "aiOPX = []\n",
    "\n",
    "for i in range(len(output)):\n",
    "    aiOPX.append(output[i][0])\n",
    "    aiTrueX.append(y_train[i][0])\n",
    "\n",
    "    "
   ]
  },
  {
   "cell_type": "markdown",
   "id": "d86b7739",
   "metadata": {},
   "source": [
    "#### Y"
   ]
  },
  {
   "cell_type": "code",
   "execution_count": 98,
   "id": "8b2d9a38",
   "metadata": {},
   "outputs": [
    {
     "name": "stdout",
     "output_type": "stream",
     "text": [
      "4\n",
      "4\n",
      "Training...\n",
      "Epoch: 1; Error: 74.55383941472455;\n",
      "Epoch: 2; Error: 54.14216447437731;\n",
      "Epoch: 3; Error: 52.26319575269707;\n",
      "The maximum number of train epochs is reached\n",
      "Testing...\n"
     ]
    }
   ],
   "source": [
    "import neurolab as nl\n",
    "\n",
    "\n",
    "def normalization(x, minimax):\n",
    "    n = len(x[0])\n",
    "    print(n)\n",
    "    for i in range(n):\n",
    "        mn, mx = minimax[i]\n",
    "        for j in range(len(x)):\n",
    "\n",
    "            x[j][i] = (x[j][i] - mn) / (mx - mn)\n",
    "\n",
    "\n",
    "\n",
    "\n",
    "# Create the input and target data\n",
    "x_train = []\n",
    "y_train = []\n",
    "\n",
    "x_test = []\n",
    "y_test = []\n",
    "\n",
    "\n",
    "trainingData = int(len(Q2true) * 3/4)\n",
    "testingData = len(Q2true) - trainingData\n",
    "\n",
    "for i in range(trainingData):\n",
    "    x_train.append([eAngle[i].item(), \n",
    "            eEnergy[i].item(),\n",
    "            pth[i].item(),\n",
    "            epz[i].item()])\n",
    "\n",
    "    y_train.append([ytrue[i]])\n",
    "\n",
    "for i in range(trainingData, len(Q2true)):\n",
    "    x_test.append([eAngle[i].item(), \n",
    "            eEnergy[i].item(),\n",
    "            pth[i].item(),\n",
    "            epz[i].item()])\n",
    "\n",
    "    y_test.append([ytrue[i]])\n",
    "\n",
    "minmax = [[min(eAngle), max(eAngle)], [min(eEnergy), max(eEnergy)], [min(pth), max(pth)], [min(epz), max(epz)]]\n",
    "\n",
    "normalization(x_train, minmax)\n",
    "normalization(x_test, minmax)\n",
    "\n",
    "# Create the neural network\n",
    "net = nl.net.newff([[0,1], [0,1], [0,1],[0,1]], [24, 24, 1])\n",
    "\n",
    "\n",
    "net.init()\n",
    "\n",
    "# Train the neural network\n",
    "\n",
    "print(\"Training...\")\n",
    "accuracies = net.train(x_train, y_train, epochs=3, show = 1, goal = 0.02)\n",
    "\n",
    "\n",
    "# Test the neural network\n",
    "print(\"Testing...\")\n",
    "output = net.sim(x_test)\n",
    "\n",
    "# Print the output\n",
    "\n",
    "aiTrueY = []\n",
    "aiOPY = []\n",
    "\n",
    "for i in range(len(output)):\n",
    "    aiOPY.append(output[i][0])\n",
    "    aiTrueY.append(y_train[i][0])"
   ]
  },
  {
   "cell_type": "code",
   "execution_count": 97,
   "id": "23cfd326",
   "metadata": {},
   "outputs": [
    {
     "name": "stdout",
     "output_type": "stream",
     "text": [
      "Training...\n",
      "Epoch: 1; Error: 37.34840867903503;\n",
      "Epoch: 2; Error: 37.072457796607026;\n",
      "Epoch: 3; Error: 36.95053325428484;\n",
      "Epoch: 4; Error: 36.85384820514972;\n",
      "Epoch: 5; Error: 36.848264351743936;\n",
      "Epoch: 6; Error: 36.84582369878921;\n",
      "Epoch: 7; Error: 36.843791012458325;\n",
      "Epoch: 8; Error: 36.84162545747692;\n",
      "Epoch: 9; Error: 36.839705754874714;\n",
      "Epoch: 10; Error: 36.83924366663523;\n",
      "Epoch: 11; Error: 36.83904170785403;\n",
      "Epoch: 12; Error: 36.8386788956697;\n",
      "The maximum number of train epochs is reached\n"
     ]
    }
   ],
   "source": [
    "net = nl.net.newff([[0,1], [0,1], [0,1],[0,1]], [24, 24, 1])\n",
    "net.layers[0].transf = nl.trans.LogSig()\n",
    "net.layers[1].transf = nl.trans.LogSig()\n",
    "net.layers[2].transf = nl.trans.LogSig()\n",
    "\n",
    "net.init()\n",
    "\n",
    "# Train the neural network\n",
    "\n",
    "print(\"Training...\")\n",
    "logaccuracies = net.train(x_train, y_train, epochs=12, show = 1, goal = 0.02)"
   ]
  },
  {
   "cell_type": "code",
   "execution_count": 38,
   "id": "417e5e2e",
   "metadata": {},
   "outputs": [
    {
     "data": {
      "text/plain": [
       "Text(0, 0.5, 'Percent Error')"
      ]
     },
     "execution_count": 38,
     "metadata": {},
     "output_type": "execute_result"
    },
    {
     "data": {
      "image/png": "[encoded data removed]",
      "text/plain": [
       "<Figure size 640x480 with 2 Axes>"
      ]
     },
     "metadata": {},
     "output_type": "display_data"
    }
   ],
   "source": [
    "\n",
    "\n",
    "\n",
    "fig2, plots =  plt.subplots(nrows=1, ncols=2)\n",
    "\n",
    "plots[0].plot(accuracies)\n",
    "plots[0].set_title(\"TanSig\")\n",
    "plots[0].axis([0, 13,0, 200,])\n",
    "\n",
    "plots[1].axis([0, 13,0, 200,])\n",
    "plots[1].set_title(\"LogSig\")\n",
    "plots[1].plot(logaccuracies)\n",
    "plots[0].set_xlabel(\"epoch\")\n",
    "plots[0].set_ylabel(\"Percent Error\")\n"
   ]
  },
  {
   "cell_type": "code",
   "execution_count": 1,
   "id": "b9f9582c",
   "metadata": {},
   "outputs": [
    {
     "ename": "NameError",
     "evalue": "name 'np' is not defined",
     "output_type": "error",
     "traceback": [
      "\u001b[1;31m---------------------------------------------------------------------------\u001b[0m",
      "\u001b[1;31mNameError\u001b[0m                                 Traceback (most recent call last)",
      "Cell \u001b[1;32mIn[1], line 1\u001b[0m\n\u001b[1;32m----> 1\u001b[0m x_bins \u001b[38;5;241m=\u001b[39m \u001b[43mnp\u001b[49m\u001b[38;5;241m.\u001b[39mlogspace(\u001b[38;5;241m-\u001b[39m\u001b[38;5;241m4\u001b[39m, \u001b[38;5;241m0\u001b[39m, \u001b[38;5;241m30\u001b[39m) \u001b[38;5;66;03m# specify exponents of 10\u001b[39;00m\n\u001b[0;32m      2\u001b[0m Q2_bins \u001b[38;5;241m=\u001b[39m np\u001b[38;5;241m.\u001b[39mlogspace(\u001b[38;5;241m0\u001b[39m, \u001b[38;5;241m3\u001b[39m, \u001b[38;5;241m40\u001b[39m) \u001b[38;5;66;03m# specify exponents of 10\u001b[39;00m\n\u001b[0;32m      5\u001b[0m plt\u001b[38;5;241m.\u001b[39mhist2d(aiOPX, aiTrueX, bins \u001b[38;5;241m=\u001b[39m [x_bins, x_bins],cmin \u001b[38;5;241m=\u001b[39m \u001b[38;5;241m1\u001b[39m)\n",
      "\u001b[1;31mNameError\u001b[0m: name 'np' is not defined"
     ]
    }
   ],
   "source": [
    "x_bins = np.logspace(-4, 0, 30) # specify exponents of 10\n",
    "Q2_bins = np.logspace(0, 3, 40) # specify exponents of 10\n",
    "\n",
    "\n",
    "plt.hist2d(aiOPX, aiTrueX, bins = [x_bins, x_bins],cmin = 1)\n",
    "plt.xscale('log')\n",
    "plt.yscale('log')\n",
    "plt.xlabel('$x_{ai}$')\n",
    "plt.ylabel('$x_{true}$')"
   ]
  },
  {
   "cell_type": "code",
   "execution_count": 43,
   "id": "31687d79",
   "metadata": {},
   "outputs": [
    {
     "data": {
      "text/plain": [
       "Text(0, 0.5, '$y_{true}$')"
      ]
     },
     "execution_count": 43,
     "metadata": {},
     "output_type": "execute_result"
    },
    {
     "data": {
      "image/png": "[encoded data removed]",
      "text/plain": [
       "<Figure size 640x480 with 1 Axes>"
      ]
     },
     "metadata": {},
     "output_type": "display_data"
    }
   ],
   "source": [
    "x_bins = np.logspace(-4, 0, 30) # specify exponents of 10\n",
    "Q2_bins = np.logspace(0, 3, 40) # specify exponents of 10\n",
    "\n",
    "\n",
    "plt.hist2d(aiOPY, aiTrueY, bins = [x_bins, x_bins],cmin = 1)\n",
    "plt.xscale('log')\n",
    "plt.yscale('log')\n",
    "plt.xlabel('$y_{ai}$')\n",
    "plt.ylabel('$y_{true}$')"
   ]
  },
  {
   "cell_type": "code",
   "execution_count": 3,
   "id": "a5902cc1",
   "metadata": {},
   "outputs": [
    {
     "ename": "NameError",
     "evalue": "name 'aiOPY' is not defined",
     "output_type": "error",
     "traceback": [
      "\u001b[1;31m---------------------------------------------------------------------------\u001b[0m",
      "\u001b[1;31mNameError\u001b[0m                                 Traceback (most recent call last)",
      "Cell \u001b[1;32mIn[3], line 4\u001b[0m\n\u001b[0;32m      1\u001b[0m aiOPQ2 \u001b[38;5;241m=\u001b[39m []\n\u001b[0;32m      2\u001b[0m aiTrueQ2 \u001b[38;5;241m=\u001b[39m []\n\u001b[1;32m----> 4\u001b[0m \u001b[38;5;28;01mfor\u001b[39;00m i \u001b[38;5;129;01min\u001b[39;00m \u001b[38;5;28mrange\u001b[39m(\u001b[38;5;28mlen\u001b[39m(\u001b[43maiOPY\u001b[49m)):\n\u001b[0;32m      5\u001b[0m     q2 \u001b[38;5;241m=\u001b[39m aiOPY[i] \u001b[38;5;241m*\u001b[39m aiOPX[i] \u001b[38;5;241m*\u001b[39m s\n\u001b[0;32m      6\u001b[0m     aiOPQ2\u001b[38;5;241m.\u001b[39mappend(q2)\n",
      "\u001b[1;31mNameError\u001b[0m: name 'aiOPY' is not defined"
     ]
    }
   ],
   "source": [
    "aiOPQ2 = []\n",
    "aiTrueQ2 = []\n",
    "\n",
    "for i in range(len(aiOPY)):\n",
    "    q2 = aiOPY[i] * aiOPX[i] * s\n",
    "    aiOPQ2.append(q2)\n",
    "    aiTrueQ2.append(Q2true[trainingData + i])\n",
    "\n",
    "x_bins = np.logspace(-4, 0, 30) # specify exponents of 10\n",
    "Q2_bins = np.logspace(0, 3, 40) # specify exponents of 10\n",
    "\n",
    "\n",
    "plt.hist2d(aiOPQ2, aiTrueQ2, bins = [Q2_bins, Q2_bins],cmin = 1)\n",
    "plt.xscale('log')\n",
    "plt.yscale('log')\n",
    "plt.xlabel('$Q^2_{ai}$')\n",
    "plt.ylabel('$Q^2_{true}$')"
   ]
  }
 ],
 "metadata": {
  "kernelspec": {
   "display_name": "Python 3 (ipykernel)",
   "language": "python",
   "name": "python3"
  },
  "language_info": {
   "codemirror_mode": {
    "name": "ipython",
    "version": 3
   },
   "file_extension": ".py",
   "mimetype": "text/x-python",
   "name": "python",
   "nbconvert_exporter": "python",
   "pygments_lexer": "ipython3",
   "version": "3.11.7"
  }
 },
 "nbformat": 4,
 "nbformat_minor": 5
}
