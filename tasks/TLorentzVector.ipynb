{
 "cells": [
  {
   "cell_type": "code",
   "execution_count": 4,
   "id": "cd73810b",
   "metadata": {},
   "outputs": [],
   "source": [
    "import uproot as ur\n",
    "import awkward as ak\n",
    "import vector\n",
    "import matplotlib.pyplot as plt\n",
    "from math import *\n",
    "\n",
    "\n",
    "\n",
    "# get data from file\n",
    "file_path = 'C:/Users/eholt/OneDrive/Documents/school/mentorship/EIC_JLAB_analysis/data/pythia8NCDIS_18x275_minQ2=10_beamEffects_xAngle=-0.025_hiDiv_1.0000.eicrecon.tree.edm4eic.root'\n",
    "events = ur.open(file_path + ':events')\n",
    "reconstructed_charged_particles = events['ReconstructedChargedParticles'].arrays()\n",
    "\n",
    "# loop through events to find electrons and store their momentum\n",
    "for i, event in  enumerate(reconstructed_charged_particles['ReconstructedChargedParticles.PDG']):\n",
    "    for j, particle in  enumerate(event):\n",
    "        if particle == 11:\n",
    "            # find momentum components\n",
    "            px = reconstructed_charged_particles['ReconstructedChargedParticles.momentum.x'][i][j]\n",
    "            py = reconstructed_charged_particles['ReconstructedChargedParticles.momentum.y'][i][j]\n",
    "            pz = reconstructed_charged_particles['ReconstructedChargedParticles.momentum.z'][i][j]\n",
    "            m  = reconstructed_charged_particles['ReconstructedChargedParticles.mass'][i][j]\n",
    "            vector.obj(x=1, y=2, z=3, m=m)\n",
    "            \n"
   ]
  }
 ],
 "metadata": {
  "kernelspec": {
   "display_name": "Python 3 (ipykernel)",
   "language": "python",
   "name": "python3"
  },
  "language_info": {
   "codemirror_mode": {
    "name": "ipython",
    "version": 3
   },
   "file_extension": ".py",
   "mimetype": "text/x-python",
   "name": "python",
   "nbconvert_exporter": "python",
   "pygments_lexer": "ipython3",
   "version": "3.11.1"
  }
 },
 "nbformat": 4,
 "nbformat_minor": 5
}
