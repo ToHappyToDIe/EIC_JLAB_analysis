{
 "cells": [
  {
   "cell_type": "markdown",
   "id": "229ddc4a",
   "metadata": {},
   "source": [
    "# Analysing Different Methods of Finding $Q^2$ and $x$"
   ]
  },
  {
   "cell_type": "markdown",
   "metadata": {},
   "source": [
    "## Finding $x$ and $Q^2$ using eletron scattering and the final hadronic state"
   ]
  },
  {
   "cell_type": "code",
   "execution_count": 12,
   "id": "a2b5ed8d",
   "metadata": {},
   "outputs": [],
   "source": [
    "import numpy as np\n",
    "import uproot as ur\n",
    "import awkward as ak\n",
    "import matplotlib.pyplot as plt\n",
    "\n",
    "s = 4 * 18 * 275\n",
    "xe, xjb, xdiff, epz = [], [], [], []\n",
    "Q2e, Q2jb = [],[]\n",
    "\n",
    "# indexes of x we used\n",
    "indexes = []\n",
    "\n",
    "# get data from file\n",
    "file_path = 'C:/Users/eholt/OneDrive/Documents/school/mentorship/EIC_JLAB_analysis/data/pythia8NCDIS_18x275_minQ2=10_beamEffects_xAngle=-0.025_hiDiv_1.0000.eicrecon.tree.edm4eic.root'\n",
    "events = ur.open(file_path + ':events')\n",
    "reconstructed_charged_particles = events['ReconstructedChargedParticles'].arrays()\n",
    "\n",
    "# loop through events to find electrons and store their momentum\n",
    "for i, event in  enumerate(reconstructed_charged_particles['ReconstructedChargedParticles.PDG']):\n",
    "    eh, pzh, pyh, pxh, hadrons = 0, 0, 0, 0, 0\n",
    "    \n",
    "    xevent = []\n",
    "    Q2event = []\n",
    "    \n",
    "    # if its just an electron, remove it\n",
    "    if 1 == len(event):\n",
    "        continue\n",
    "\n",
    "    \n",
    "    for j, particle in  enumerate(event):\n",
    "        # if its an electron, find with scattered electron method\n",
    "        if particle == 11:\n",
    "            \n",
    "            \n",
    "            m = reconstructed_charged_particles['ReconstructedChargedParticles.mass'][i][j]\n",
    "            kp1, kp2, kp3 = reconstructed_charged_particles['ReconstructedChargedParticles.momentum.x'][i][j], reconstructed_charged_particles['ReconstructedChargedParticles.momentum.y'][i][j], reconstructed_charged_particles['ReconstructedChargedParticles.momentum.z'][i][j]\n",
    "            \n",
    "            # check psuedo-rapidity\n",
    "            kp = np.sqrt(kp1**2 + kp2**2 + kp3**2)\n",
    "            theta = np.arccos(kp3/kp)\n",
    "            pr = -np.log(np.tan(theta / 2))\n",
    "            \n",
    "            # remove particles with -4 < psuedo-rapidity < 4\n",
    "            if abs(pr) < 4:\n",
    "                \n",
    "            \n",
    "                kp0 = np.sqrt(m**2+(kp1**2+kp2**2+kp3**2))\n",
    "\n",
    "                k3 = -18\n",
    "                m0 = 0.000511\n",
    "                k0 = np.sqrt(m0**2 + k3**2)\n",
    "                q0 = k0 - kp0\n",
    "                q1 =    - kp1\n",
    "                q2 =    - kp2\n",
    "                q3 = k3 - kp3\n",
    "                Q2 =-(q0**2 - q1**2 - q2**2 - q3**2) \n",
    "                Q2event.append(Q2)\n",
    "                s = 4 * 10 *100 \n",
    "\n",
    "\n",
    "                alpha = -0.025\n",
    "                p1 = 275 * np.sin(alpha)\n",
    "                p2 = 0\n",
    "                p3 = 275 * np.cos(alpha)\n",
    "                p0 = np.sqrt(0.938**2 + p1**2 + p2**2 + p3**2)\n",
    "                pq = p0 * q0 - p1 * q1 - p2 * q2 - p3 * q3\n",
    "                xevent.append(0.5 * Q2 / pq)\n",
    "                \n",
    "                \n",
    "        # get the sum of components from hadrons for JB method\n",
    "        elif abs(particle) == 211 or abs(particle) == 321 or particle == 2212:\n",
    "            \n",
    "            \n",
    "            m = reconstructed_charged_particles['ReconstructedChargedParticles.mass'][i][j]\n",
    "            kp1, kp2, kp3 = reconstructed_charged_particles['ReconstructedChargedParticles.momentum.x'][i][j], reconstructed_charged_particles['ReconstructedChargedParticles.momentum.y'][i][j], reconstructed_charged_particles['ReconstructedChargedParticles.momentum.z'][i][j]\n",
    "            \n",
    "            \n",
    "            kp = np.sqrt(kp1**2 + kp2**2 + kp3**2)\n",
    "            theta = np.arccos(kp3/kp)\n",
    "            pr = -np.log(np.tan(theta / 2))\n",
    "            \n",
    "            if abs(pr) < 4:\n",
    "                hadrons += 1\n",
    "                eh  += np.sqrt(m**2+(kp1**2+kp2**2+kp3**2))\n",
    "                pxh += kp1\n",
    "                pyh += kp2\n",
    "                pzh += kp3\n",
    "            \n",
    "    \n",
    "    # add one per event\n",
    "    y = 1/(2 * 18) * (eh - pzh)\n",
    "    Q2 = 1/(1 - y) * (pxh**2 + pyh**2)\n",
    "    \n",
    "    if hadrons != 0:\n",
    "        indexes.append(i)\n",
    "        epz.append((eh - pzh))\n",
    "        xjb.append(Q2 / (s * y))\n",
    "        xe.append(xevent[Q2event.index(max(Q2event))])\n",
    "\n",
    "        Q2jb.append(Q2)\n",
    "        Q2e.append(max(Q2event))\n",
    "\n"
   ]
  },
  {
   "cell_type": "markdown",
   "id": "254cac11",
   "metadata": {},
   "source": [
    "## Finding the true $x$ and $Q^2$"
   ]
  },
  {
   "cell_type": "code",
   "execution_count": 20,
   "id": "3ff1358d",
   "metadata": {},
   "outputs": [
    {
     "name": "stdout",
     "output_type": "stream",
     "text": [
      "553\n"
     ]
    }
   ],
   "source": [
    "mc_particles = events['MCParticles'].arrays()\n",
    "\n",
    "Q2true, xtrue = [], []\n",
    "# loop through all the indexes we got the other values from so we skip the same events\n",
    "for i  in indexes:\n",
    "    event = mc_particles['MCParticles.PDG'][i]\n",
    "    Q2tot, xtot = [], []\n",
    "    for j, particle in enumerate(event):\n",
    "        if mc_particles['MCParticles.generatorStatus'][i][j] != 1 or particle != 11:\n",
    "            continue\n",
    "        \n",
    "        psx, psy, psz = mc_particles['MCParticles.momentum.x'][i][j], mc_particles['MCParticles.momentum.y'][i][j], mc_particles['MCParticles.momentum.z'][i][j]\n",
    "        E = 18\n",
    "        Ep = np.sqrt(0.000511**2 + psx**2 + psy**2 + psz**2)\n",
    "        theta = np.arctan2(np.sqrt(psx**2 + psy**2), psz)\n",
    "        \n",
    "        Q2 = 2 * E * Ep * (1 + np.cos(theta))\n",
    "        \n",
    "        y = 1 - 0.5 * Ep / E * (1 - np.cos(theta))\n",
    "        s = 4 * 18 * 275\n",
    "        x = Q2 / s / y\n",
    "        xtot.append(x)\n",
    "        Q2tot.append(Q2)\n",
    "\n",
    "    # if we have multiple events, use one with largest Q2\n",
    "    if len(xtot) > 0:\n",
    "        xtrue.append(xtot[Q2tot.index(max(Q2tot))])\n",
    "        Q2true.append(max(Q2tot))\n",
    "\n",
    "print(len(xtrue))"
   ]
  },
  {
   "cell_type": "markdown",
   "metadata": {},
   "source": [
    "## Comparing Methods for $x$"
   ]
  },
  {
   "cell_type": "markdown",
   "id": "8b8683c3",
   "metadata": {},
   "source": [
    "### Graphing $x_e$ vs $x_{JB}$"
   ]
  },
  {
   "cell_type": "code",
   "execution_count": null,
   "id": "2583fab3",
   "metadata": {
    "scrolled": true
   },
   "outputs": [
    {
     "data": {
      "text/plain": [
       "Text(0, 0.5, '$x_{JB}$')"
      ]
     },
     "execution_count": 4,
     "metadata": {},
     "output_type": "execute_result"
    },
    {
     "data": {
      "image/png": "[encoded data removed]",
      "text/plain": [
       "<Figure size 640x480 with 1 Axes>"
      ]
     },
     "metadata": {},
     "output_type": "display_data"
    }
   ],
   "source": [
    "\n",
    "\n",
    "x_bins = np.logspace(-4, 0, 30) # specify exponents of 10\n",
    "Q2_bins = np.logspace(0, 3, 40) # specify exponents of 10\n",
    "\n",
    "plt.hist2d(xe, xjb, bins = [x_bins, x_bins],cmin = 1)\n",
    "plt.xscale('log')\n",
    "plt.yscale('log')\n",
    "plt.xlabel('$x_e$')\n",
    "plt.ylabel('$x_{JB}$')\n"
   ]
  },
  {
   "cell_type": "markdown",
   "metadata": {},
   "source": [
    "### $x_{true}$ vs. $x_{JB}$ and $x_{e}$"
   ]
  },
  {
   "cell_type": "code",
   "execution_count": null,
   "metadata": {},
   "outputs": [
    {
     "data": {
      "image/png": "[encoded data removed]",
      "text/plain": [
       "<Figure size 640x480 with 2 Axes>"
      ]
     },
     "metadata": {},
     "output_type": "display_data"
    }
   ],
   "source": [
    "x_bins = np.logspace(-4, 0, 30) # specify exponents of 10\n",
    "Q2_bins = np.logspace(0, 3, 40) # specify exponents of 10\n",
    "\n",
    "\n",
    "fig2, hist2d =  plt.subplots(nrows=1, ncols=2)\n",
    "\n",
    "hist2d[0].hist2d(xe, xtrue,  bins = [x_bins, x_bins],cmin = 1)\n",
    "hist2d[0].set_xlabel(\"$x_e$\")\n",
    "hist2d[0].set_ylabel(\"$x_{true}$\")\n",
    "hist2d[0].set_yscale(\"log\")\n",
    "hist2d[0].set_xscale(\"log\")\n",
    "\n",
    "\n",
    "hist2d[1].hist2d(xjb, xtrue,  bins = [x_bins, x_bins],cmin = 1)\n",
    "hist2d[1].set_xlabel(\"$x_{JB}$\")\n",
    "hist2d[1].set_ylabel(\"$x_{true}$\")\n",
    "hist2d[1].set_yscale(\"log\")\n",
    "hist2d[1].set_xscale(\"log\")\n",
    "\n",
    "plt.subplots_adjust(left=0.1, bottom=0.3, right=1.3, top=0.9, wspace=0.4, hspace=0.4)\n"
   ]
  },
  {
   "cell_type": "markdown",
   "metadata": {},
   "source": [
    "## Comparing Different Methods for $Q^2$"
   ]
  },
  {
   "cell_type": "markdown",
   "metadata": {},
   "source": [
    "### $Q^2_{true}$ vs. $Q^2_{JB}$ and $Q^2_{e}$"
   ]
  },
  {
   "cell_type": "code",
   "execution_count": null,
   "metadata": {},
   "outputs": [
    {
     "data": {
      "text/plain": [
       "Text(0, 0.5, '$x_{JB}$')"
      ]
     },
     "execution_count": 7,
     "metadata": {},
     "output_type": "execute_result"
    },
    {
     "data": {
      "image/png": "[encoded data removed]",
      "text/plain": [
       "<Figure size 640x480 with 1 Axes>"
      ]
     },
     "metadata": {},
     "output_type": "display_data"
    }
   ],
   "source": [
    "\n",
    "Q2_bins = np.logspace(0, 3, 40) # specify exponents of 10\n",
    "\n",
    "plt.hist2d(Q2e, Q2jb, bins = [Q2_bins, Q2_bins],cmin = 1)\n",
    "plt.xscale('log')\n",
    "plt.yscale('log')\n",
    "plt.xlabel('$x_e$')\n",
    "plt.ylabel('$x_{JB}$')"
   ]
  },
  {
   "cell_type": "markdown",
   "metadata": {},
   "source": [
    "### $Q^2_{true}$ vs. $Q^2_{JB}$ and $Q^2_{e}$"
   ]
  },
  {
   "cell_type": "code",
   "execution_count": 21,
   "metadata": {},
   "outputs": [
    {
     "data": {
      "image/png": "[encoded data removed]",
      "text/plain": [
       "<Figure size 640x480 with 2 Axes>"
      ]
     },
     "metadata": {},
     "output_type": "display_data"
    }
   ],
   "source": [
    "\n",
    "Q2_bins = np.logspace(0, 3, 40) # specify exponents of 10\n",
    "\n",
    "\n",
    "fig2, hist2d =  plt.subplots(nrows=1, ncols=2)\n",
    "\n",
    "hist2d[0].hist2d(Q2e, Q2true,  bins = [Q2_bins, Q2_bins],cmin = 1)\n",
    "hist2d[0].set_xlabel(\"$Q^2_e$\")\n",
    "hist2d[0].set_ylabel(\"$Q^2_{true}$\")\n",
    "hist2d[0].set_yscale(\"log\")\n",
    "hist2d[0].set_xscale(\"log\")\n",
    "\n",
    "\n",
    "hist2d[1].hist2d(Q2jb, Q2true,  bins = [Q2_bins, Q2_bins],cmin = 1)\n",
    "hist2d[1].set_xlabel(\"$Q^2_{JB}$\")\n",
    "hist2d[1].set_ylabel(\"$Q^2_{true}$\")\n",
    "hist2d[1].set_yscale(\"log\")\n",
    "hist2d[1].set_xscale(\"log\")\n",
    "\n",
    "plt.subplots_adjust(left=0.1, bottom=0.3, right=1.3, top=0.9, wspace=0.4, hspace=0.4)"
   ]
  }
 ],
 "metadata": {
  "kernelspec": {
   "display_name": "Python 3 (ipykernel)",
   "language": "python",
   "name": "python3"
  },
  "language_info": {
   "codemirror_mode": {
    "name": "ipython",
    "version": 3
   },
   "file_extension": ".py",
   "mimetype": "text/x-python",
   "name": "python",
   "nbconvert_exporter": "python",
   "pygments_lexer": "ipython3",
   "version": "3.11.1"
  }
 },
 "nbformat": 4,
 "nbformat_minor": 5
}
