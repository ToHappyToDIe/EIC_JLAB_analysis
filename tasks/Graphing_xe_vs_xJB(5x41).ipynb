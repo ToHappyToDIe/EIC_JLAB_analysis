{
 "cells": [
  {
   "cell_type": "markdown",
   "id": "229ddc4a",
   "metadata": {},
   "source": [
    "# Extrtacting and Calculating Data"
   ]
  },
  {
   "cell_type": "markdown",
   "metadata": {},
   "source": [
    "## Finding $x$ and $Q^2$ using eletron scattering and the final hadronic state"
   ]
  },
  {
   "cell_type": "code",
   "execution_count": 84,
   "id": "a2b5ed8d",
   "metadata": {},
   "outputs": [
    {
     "name": "stdout",
     "output_type": "stream",
     "text": [
      "1835\n"
     ]
    }
   ],
   "source": [
    "import numpy as np\n",
    "import uproot as ur\n",
    "import awkward as ak\n",
    "import matplotlib.pyplot as plt\n",
    "# 18X275 or 5x41\n",
    "# 1,835  vs 5,110 events\n",
    "E, Ep = 18, 275\n",
    "s = 4 * E * Ep\n",
    "xe, xjb, xdiff, epz = [], [], [], []\n",
    "Q2e, Q2jb = [],[]\n",
    "fileCount = 5\n",
    "\n",
    "# indexes of x we used\n",
    "indexes = [[] for i in range(fileCount)]\n",
    "points = 0\n",
    "# get data from file\n",
    "\n",
    "files = list(f'../../data/pythia8NCDIS_{E}x{Ep}_minQ2=10_beamEffects_xAngle=-0.025_hiDiv_1.084{i}.eicrecon.tree.edm4eic.root' for i in range(fileCount))\n",
    "\n",
    "for f, file_path in enumerate(files):\n",
    "    events = ur.open(file_path + ':events')\n",
    "    reconstructed_charged_particles = events['ReconstructedChargedParticles'].arrays()\n",
    "\n",
    "    # loop through events to find electrons and store their momentum\n",
    "    for i, event in  enumerate(reconstructed_charged_particles['ReconstructedChargedParticles.PDG']):\n",
    "        eh, pzh, pyh, pxh, hadrons = 0, 0, 0, 0, 0\n",
    "        points += 1\n",
    "        xevent = []\n",
    "        Q2event = []\n",
    "        \n",
    "        # if its just an electron, remove it\n",
    "        if 1 == len(event):\n",
    "            continue\n",
    "\n",
    "        \n",
    "        for j, particle in  enumerate(event):\n",
    "            # if its an electron, find with scattered electron method\n",
    "            if particle == 11:\n",
    "                \n",
    "                \n",
    "                m = reconstructed_charged_particles['ReconstructedChargedParticles.mass'][i][j]\n",
    "                kp1, kp2, kp3 = reconstructed_charged_particles['ReconstructedChargedParticles.momentum.x'][i][j], reconstructed_charged_particles['ReconstructedChargedParticles.momentum.y'][i][j], reconstructed_charged_particles['ReconstructedChargedParticles.momentum.z'][i][j]\n",
    "                \n",
    "                # check psuedo-rapidity\n",
    "                kp = np.sqrt(kp1**2 + kp2**2 + kp3**2)\n",
    "                theta = np.arccos(kp3/kp)\n",
    "                pr = -np.log(np.tan(theta / 2))\n",
    "                \n",
    "                # remove particles with -4 < psuedo-rapidity < 4\n",
    "                if abs(pr) < 4:\n",
    "                    \n",
    "                \n",
    "                    kp0 = np.sqrt(m**2+(kp1**2+kp2**2+kp3**2))\n",
    "\n",
    "                    k3 = -E\n",
    "                    m0 = 0.000511\n",
    "                    k0 = np.sqrt(m0**2 + k3**2)\n",
    "                    q0 = k0 - kp0\n",
    "                    q1 =    - kp1\n",
    "                    q2 =    - kp2\n",
    "                    q3 = k3 - kp3\n",
    "                    Q2 =-(q0**2 - q1**2 - q2**2 - q3**2) \n",
    "                    Q2event.append(Q2)\n",
    "\n",
    "\n",
    "                    alpha = -0.025\n",
    "                    p1 = Ep * np.sin(alpha)\n",
    "                    p2 = 0\n",
    "                    p3 = Ep * np.cos(alpha)\n",
    "                    p0 = np.sqrt(0.938**2 + p1**2 + p2**2 + p3**2)\n",
    "                    pq = p0 * q0 - p1 * q1 - p2 * q2 - p3 * q3\n",
    "                    xevent.append(0.5 * Q2 / pq)\n",
    "                    \n",
    "                    \n",
    "            # get the sum of components from hadrons for JB method\n",
    "            elif abs(particle) == 211 or abs(particle) == 321 or particle == 2212:\n",
    "                \n",
    "                \n",
    "                m = reconstructed_charged_particles['ReconstructedChargedParticles.mass'][i][j]\n",
    "                kp1, kp2, kp3 = reconstructed_charged_particles['ReconstructedChargedParticles.momentum.x'][i][j], reconstructed_charged_particles['ReconstructedChargedParticles.momentum.y'][i][j], reconstructed_charged_particles['ReconstructedChargedParticles.momentum.z'][i][j]\n",
    "                \n",
    "                \n",
    "                kp = np.sqrt(kp1**2 + kp2**2 + kp3**2)\n",
    "                theta = np.arccos(kp3/kp)\n",
    "                pr = -np.log(np.tan(theta / 2))\n",
    "                \n",
    "                if abs(pr) < 4:\n",
    "                    hadrons += 1\n",
    "                    eh  += np.sqrt(m**2+(kp1**2+kp2**2+kp3**2))\n",
    "                    pxh += kp1\n",
    "                    pyh += kp2\n",
    "                    pzh += kp3\n",
    "                \n",
    "        \n",
    "        # add one per event\n",
    "        y = 1/(2 * E) * (eh - pzh)\n",
    "        Q2 = 1/(1 - y) * (pxh**2 + pyh**2)\n",
    "        \n",
    "        if hadrons != 0 and len(Q2event) != 0:\n",
    "            indexes[f].append(i)\n",
    "            epz.append((eh - pzh))\n",
    "            xjb.append(Q2 / (s * y))\n",
    "            xe.append(xevent[Q2event.index(max(Q2event))])\n",
    "\n",
    "            Q2jb.append(Q2)\n",
    "            Q2e.append(max(Q2event))\n",
    "print(points)\n",
    "\n"
   ]
  },
  {
   "cell_type": "markdown",
   "id": "254cac11",
   "metadata": {},
   "source": [
    "## Finding the true $x$ and $Q^2$"
   ]
  },
  {
   "cell_type": "code",
   "execution_count": 85,
   "id": "3ff1358d",
   "metadata": {},
   "outputs": [
    {
     "name": "stdout",
     "output_type": "stream",
     "text": [
      "1766\n"
     ]
    }
   ],
   "source": [
    "mc_particles = events['MCParticles'].arrays()\n",
    "\n",
    "Q2true, xtrue, ytrue = [], [], []\n",
    "# loop through all the indexes we got the other values from so we skip the same events\n",
    "for lst  in indexes:\n",
    "    for i in lst:\n",
    "        event = mc_particles['MCParticles.PDG'][i]\n",
    "        Q2tot, xtot, ytot = [], [], []\n",
    "        for j, particle in enumerate(event):\n",
    "            if mc_particles['MCParticles.generatorStatus'][i][j] != 1 or particle != 11:\n",
    "                continue\n",
    "            \n",
    "            psx, psy, psz = mc_particles['MCParticles.momentum.x'][i][j], mc_particles['MCParticles.momentum.y'][i][j], mc_particles['MCParticles.momentum.z'][i][j]\n",
    "            Eproton = np.sqrt(0.000511**2 + psx**2 + psy**2 + psz**2)\n",
    "            theta = np.arctan2(np.sqrt(psx**2 + psy**2), psz)\n",
    "            \n",
    "            Q2 = 2 * E * Eproton * (1 + np.cos(theta))\n",
    "            \n",
    "            y = 1 - 0.5 * Eproton / E * (1 - np.cos(theta))\n",
    "            x = Q2 / s / y\n",
    "            xtot.append(x)\n",
    "            Q2tot.append(Q2)\n",
    "            ytot.append(x)\n",
    "\n",
    "        # if we have multiple events, use one with largest Q2\n",
    "        if len(xtot) > 0:\n",
    "            xtrue.append(xtot[Q2tot.index(max(Q2tot))])\n",
    "            ytrue.append(ytot[Q2tot.index(max(Q2tot))])\n",
    "            Q2true.append(max(Q2tot))\n",
    "\n",
    "print(len(xtrue))"
   ]
  },
  {
   "cell_type": "markdown",
   "id": "5c861e38",
   "metadata": {},
   "source": [
    "## Using an ANN "
   ]
  },
  {
   "cell_type": "markdown",
   "id": "bb4fd590",
   "metadata": {},
   "source": [
    "### Getting Variables"
   ]
  },
  {
   "cell_type": "code",
   "execution_count": 3,
   "id": "60fba042",
   "metadata": {},
   "outputs": [],
   "source": [
    "# 18X275 or 5x41\n",
    "E, Ep = 5, 41\n",
    "s = 4 * E * Ep\n",
    "xe, xjb, xdiff, epz = [], [], [], []\n",
    "\n",
    "\n",
    "eAngle, eEnergy, epz, pth = [], [], [], []\n",
    "\n",
    "Q2e, Q2jb = [],[]\n",
    "fileCount = 5\n",
    "\n",
    "# indexes of x we used\n",
    "indexes = [[] for i in range(fileCount)]\n",
    "\n",
    "# get data from file\n",
    "\n",
    "files = list(f'../../data/pythia8NCDIS_{E}x{Ep}_minQ2=10_beamEffects_xAngle=-0.025_hiDiv_1.084{i}.eicrecon.tree.edm4eic.root' for i in range(fileCount))\n",
    "\n",
    "for f, file_path in enumerate(files):\n",
    "    events = ur.open(file_path + ':events')\n",
    "    reconstructed_charged_particles = events['ReconstructedChargedParticles'].arrays()\n",
    "\n",
    "    # loop through events to find electrons and store their momentum\n",
    "    for i, event in  enumerate(reconstructed_charged_particles['ReconstructedChargedParticles.PDG']):\n",
    "        eh, pzh, pyh, pxh, hadrons = 0, 0, 0, 0, 0\n",
    "        \n",
    "        xevent = []\n",
    "        Q2event = []\n",
    "\n",
    "        angleEvents = []\n",
    "        energyEvents = []\n",
    "        \n",
    "        # if its just an electron, remove it\n",
    "        if 1 == len(event):\n",
    "            continue\n",
    "\n",
    "        \n",
    "        for j, particle in  enumerate(event):\n",
    "            # if its an electron, find with scattered electron method\n",
    "            if particle == 11:\n",
    "                \n",
    "                \n",
    "                m = reconstructed_charged_particles['ReconstructedChargedParticles.mass'][i][j]\n",
    "                kp1, kp2, kp3 = reconstructed_charged_particles['ReconstructedChargedParticles.momentum.x'][i][j], reconstructed_charged_particles['ReconstructedChargedParticles.momentum.y'][i][j], reconstructed_charged_particles['ReconstructedChargedParticles.momentum.z'][i][j]\n",
    "                \n",
    "                # check psuedo-rapidity\n",
    "                kp = np.sqrt(kp1**2 + kp2**2 + kp3**2)\n",
    "                theta = np.arccos(kp3/kp)\n",
    "                pr = -np.log(np.tan(theta / 2))\n",
    "                \n",
    "                # remove particles with -4 < psuedo-rapidity < 4\n",
    "                if abs(pr) < 4:\n",
    "\n",
    "                    theta = np.arctan2(np.sqrt(kp1**2 + kp2**2), kp3)\n",
    "\n",
    "                    k3 = -E\n",
    "                    m0 = 0.000511\n",
    "                    kp0 = np.sqrt(m0**2+(kp1**2+kp2**2+kp3**2))\n",
    "                    k0 = np.sqrt(m0**2 + k3**2)\n",
    "                    q0 = k0 - kp0\n",
    "                    q1 =    - kp1\n",
    "                    q2 =    - kp2\n",
    "                    q3 = k3 - kp3\n",
    "                    Q2 =-(q0**2 - q1**2 - q2**2 - q3**2) \n",
    "                    Q2event.append(Q2)\n",
    "\n",
    "\n",
    "                    alpha = -0.025\n",
    "                    p1 = Ep * np.sin(alpha)\n",
    "                    p2 = 0\n",
    "                    p3 = Ep * np.cos(alpha)\n",
    "                    p0 = np.sqrt(0.938**2 + p1**2 + p2**2 + p3**2)\n",
    "                    pq = p0 * q0 - p1 * q1 - p2 * q2 - p3 * q3\n",
    "                    xevent.append(0.5 * Q2 / pq)\n",
    "                    energyEvents.append(kp0)\n",
    "                    angleEvents.append(theta)\n",
    "\n",
    "                    \n",
    "                    \n",
    "                    \n",
    "            # get the sum of components from hadrons for JB method\n",
    "            elif abs(particle) == 211 or abs(particle) == 321 or particle == 2212:\n",
    "                \n",
    "                \n",
    "                m = reconstructed_charged_particles['ReconstructedChargedParticles.mass'][i][j]\n",
    "                kp1, kp2, kp3 = reconstructed_charged_particles['ReconstructedChargedParticles.momentum.x'][i][j], reconstructed_charged_particles['ReconstructedChargedParticles.momentum.y'][i][j], reconstructed_charged_particles['ReconstructedChargedParticles.momentum.z'][i][j]\n",
    "                \n",
    "                \n",
    "                kp = np.sqrt(kp1**2 + kp2**2 + kp3**2)\n",
    "                theta = np.arccos(kp3/kp)\n",
    "                pr = -np.log(np.tan(theta / 2))\n",
    "                \n",
    "                if abs(pr) < 4:\n",
    "                    hadrons += 1\n",
    "                    eh  += np.sqrt(m**2+(kp1**2+kp2**2+kp3**2))\n",
    "                    pxh += kp1\n",
    "                    pyh += kp2\n",
    "                    pzh += kp3\n",
    "                \n",
    "        \n",
    "        # add one per event\n",
    "        y = 1/(2 * E) * (eh - pzh)\n",
    "        Q2 = 1/(1 - y) * (pxh**2 + pyh**2)\n",
    "        \n",
    "        if hadrons != 0 and len(Q2event) != 0:\n",
    "            indexes[f].append(i)\n",
    "            epz.append((eh - pzh))\n",
    "            pth.append((pxh**2 + pyh**2))\n",
    "            eAngle.append(angleEvents[Q2event.index(max(Q2event))])\n",
    "            eEnergy.append(energyEvents[Q2event.index(max(Q2event))])\n",
    "\n",
    "\n",
    "            xjb.append(Q2 / (s * y))\n",
    "            xe.append(xevent[Q2event.index(max(Q2event))])\n",
    "\n",
    "            Q2jb.append(Q2)\n",
    "            Q2e.append(max(Q2event))"
   ]
  },
  {
   "cell_type": "markdown",
   "id": "ef565eca",
   "metadata": {},
   "source": [
    "### Finding X"
   ]
  },
  {
   "cell_type": "code",
   "execution_count": 72,
   "id": "541ccf63",
   "metadata": {},
   "outputs": [
    {
     "name": "stdout",
     "output_type": "stream",
     "text": [
      "4\n",
      "4\n",
      "Training...\n",
      "Epoch: 1; Error: 106.41644100828935;\n",
      "Epoch: 2; Error: 50.660750985830866;\n",
      "Epoch: 3; Error: 39.563964285787904;\n",
      "The maximum number of train epochs is reached\n",
      "Testing...\n"
     ]
    }
   ],
   "source": [
    "import neurolab as nl\n",
    "\n",
    "# TODO: scale data, try different functions, relu, tan, tansig, import more data\n",
    "\n",
    "def normalization(x, minimax):\n",
    "    n = len(x[0])\n",
    "    print(n)\n",
    "    for i in range(n):\n",
    "        mn, mx = minimax[i]\n",
    "        for j in range(len(x)):\n",
    "\n",
    "            x[j][i] = (x[j][i] - mn) / (mx - mn)\n",
    "\n",
    "\n",
    "# Create the input and target data\n",
    "x_train = []\n",
    "y_train = []\n",
    "\n",
    "x_test = []\n",
    "y_test = []\n",
    "\n",
    "\n",
    "trainingData = int(len(Q2true) * 3/4)\n",
    "testingData = len(Q2true) - trainingData\n",
    "\n",
    "for i in range(trainingData):\n",
    "    x_train.append([eAngle[i].item(), \n",
    "            eEnergy[i].item(),\n",
    "            pth[i].item(),\n",
    "            epz[i].item()])\n",
    "\n",
    "    y_train.append([xtrue[i]])\n",
    "\n",
    "for i in range(trainingData, len(Q2true)):\n",
    "    x_test.append([eAngle[i].item(), \n",
    "            eEnergy[i].item(),\n",
    "            pth[i].item(),\n",
    "            epz[i].item()])\n",
    "\n",
    "    y_test.append([xtrue[i]])\n",
    "\n",
    "minmax = [[min(eAngle), max(eAngle)], [min(eEnergy), max(eEnergy)], [min(pth), max(pth)], [min(epz), max(epz)]]\n",
    "normalization(x_train, minmax)\n",
    "normalization(x_test, minmax)\n",
    "\n",
    "# Create the neural network\n",
    "net = nl.net.newff([[0,1], [0,1], [0,1],[0,1]], [24, 24, 1])\n",
    "net.init()\n",
    "\n",
    "\n",
    "\n",
    "# Train the neural network\n",
    "\n",
    "print(\"Training...\")\n",
    "accuracies = net.train(x_train, y_train, epochs=3, show = 1, goal = 0.02)\n",
    "\n",
    "# Test the neural network\n",
    "print(\"Testing...\")\n",
    "output = net.sim(x_test)\n",
    "\n",
    "# Print the output\n",
    "\n",
    "aiTrueX = []\n",
    "aiOPX = []\n",
    "\n",
    "for i in range(len(output)):\n",
    "    aiOPX.append(output[i][0])\n",
    "    aiTrueX.append(y_train[i][0])"
   ]
  },
  {
   "cell_type": "markdown",
   "id": "a08a03a2",
   "metadata": {},
   "source": [
    "### Finding Y"
   ]
  },
  {
   "cell_type": "code",
   "execution_count": 74,
   "id": "ad1baa3b",
   "metadata": {},
   "outputs": [
    {
     "name": "stdout",
     "output_type": "stream",
     "text": [
      "4\n",
      "4\n",
      "Training...\n",
      "Epoch: 1; Error: 208.87898863727918;\n",
      "Epoch: 2; Error: 101.71072900137266;\n",
      "Epoch: 3; Error: 79.46494297451699;\n",
      "The maximum number of train epochs is reached\n",
      "Testing...\n"
     ]
    }
   ],
   "source": [
    "import neurolab as nl\n",
    "\n",
    "\n",
    "def normalization(x, minimax):\n",
    "    n = len(x[0])\n",
    "    print(n)\n",
    "    for i in range(n):\n",
    "        mn, mx = minimax[i]\n",
    "        for j in range(len(x)):\n",
    "\n",
    "            x[j][i] = (x[j][i] - mn) / (mx - mn)\n",
    "\n",
    "\n",
    "\n",
    "\n",
    "# Create the input and target data\n",
    "x_train = []\n",
    "y_train = []\n",
    "\n",
    "x_test = []\n",
    "y_test = []\n",
    "\n",
    "\n",
    "trainingData = int(len(Q2true) * 3/4)\n",
    "testingData = len(Q2true) - trainingData\n",
    "\n",
    "for i in range(trainingData):\n",
    "    x_train.append([eAngle[i].item(), \n",
    "            eEnergy[i].item(),\n",
    "            pth[i].item(),\n",
    "            epz[i].item()])\n",
    "\n",
    "    y_train.append([ytrue[i]])\n",
    "\n",
    "for i in range(trainingData, len(Q2true)):\n",
    "    x_test.append([eAngle[i].item(), \n",
    "            eEnergy[i].item(),\n",
    "            pth[i].item(),\n",
    "            epz[i].item()])\n",
    "\n",
    "    y_test.append([ytrue[i]])\n",
    "\n",
    "minmax = [[min(eAngle), max(eAngle)], [min(eEnergy), max(eEnergy)], [min(pth), max(pth)], [min(epz), max(epz)]]\n",
    "\n",
    "normalization(x_train, minmax)\n",
    "normalization(x_test, minmax)\n",
    "\n",
    "# Create the neural network\n",
    "net = nl.net.newff([[0,1], [0,1], [0,1],[0,1]], [24, 24, 1])\n",
    "\n",
    "\n",
    "net.init()\n",
    "\n",
    "# Train the neural network\n",
    "\n",
    "print(\"Training...\")\n",
    "accuracies = net.train(x_train, y_train, epochs=3, show = 1, goal = 0.02)\n",
    "\n",
    "\n",
    "# Test the neural network\n",
    "print(\"Testing...\")\n",
    "output = net.sim(x_test)\n",
    "\n",
    "# Print the output\n",
    "\n",
    "aiTrueY = []\n",
    "aiOPY = []\n",
    "\n",
    "for i in range(len(output)):\n",
    "    aiOPY.append(output[i][0])\n",
    "    aiTrueY.append(y_train[i][0])"
   ]
  },
  {
   "cell_type": "markdown",
   "id": "4492901a",
   "metadata": {},
   "source": [
    "### Finding $Q^2$"
   ]
  },
  {
   "cell_type": "code",
   "execution_count": 75,
   "id": "31d60bd8",
   "metadata": {},
   "outputs": [
    {
     "data": {
      "text/plain": [
       "Text(0, 0.5, '$Q^2_{true}$')"
      ]
     },
     "execution_count": 75,
     "metadata": {},
     "output_type": "execute_result"
    },
    {
     "data": {
      "image/png": "[encoded data removed]",
      "text/plain": [
       "<Figure size 640x480 with 1 Axes>"
      ]
     },
     "metadata": {},
     "output_type": "display_data"
    }
   ],
   "source": [
    "aiOPQ2 = []\n",
    "aiTrueQ2 = []\n",
    "\n",
    "for i in range(len(aiOPY)):\n",
    "    q2 = aiOPY[i] * aiOPX[i] * s\n",
    "    aiOPQ2.append(q2)\n",
    "    aiTrueQ2.append(Q2true[trainingData + i])\n",
    "\n",
    "x_bins = np.logspace(-4, 0, 30) # specify exponents of 10\n",
    "Q2_bins = np.logspace(0, 3, 40) # specify exponents of 10\n",
    "\n",
    "\n",
    "plt.hist2d(aiOPQ2, aiTrueQ2, bins = [Q2_bins, Q2_bins],cmin = 1)\n",
    "plt.xscale('log')\n",
    "plt.yscale('log')\n",
    "plt.xlabel('$Q^2_{ai}$')\n",
    "plt.ylabel('$Q^2_{true}$')"
   ]
  },
  {
   "cell_type": "markdown",
   "metadata": {},
   "source": [
    "# Directly Comparing Methods"
   ]
  },
  {
   "cell_type": "markdown",
   "id": "372ea6f5",
   "metadata": {},
   "source": [
    "## Comparing $x$"
   ]
  },
  {
   "cell_type": "markdown",
   "id": "8b8683c3",
   "metadata": {},
   "source": [
    "### Graphing $x_e$ vs $x_{JB}$"
   ]
  },
  {
   "cell_type": "code",
   "execution_count": 7,
   "id": "2583fab3",
   "metadata": {
    "scrolled": true
   },
   "outputs": [
    {
     "data": {
      "text/plain": [
       "Text(0, 0.5, '$x_{JB}$')"
      ]
     },
     "execution_count": 7,
     "metadata": {},
     "output_type": "execute_result"
    },
    {
     "data": {
      "image/png": "[encoded data removed]",
      "text/plain": [
       "<Figure size 640x480 with 1 Axes>"
      ]
     },
     "metadata": {},
     "output_type": "display_data"
    }
   ],
   "source": [
    "\n",
    "\n",
    "x_bins = np.logspace(-4, 0, 30) # specify exponents of 10\n",
    "Q2_bins = np.logspace(0, 3, 40) # specify exponents of 10\n",
    "\n",
    "plt.hist2d(xe, xjb, bins = [x_bins, x_bins],cmin = 1)\n",
    "plt.xscale('log')\n",
    "plt.yscale('log')\n",
    "plt.xlabel('$x_e$')\n",
    "plt.ylabel('$x_{JB}$')\n"
   ]
  },
  {
   "cell_type": "markdown",
   "metadata": {},
   "source": [
    "### $x_{true}$ vs. $x_{JB}$ and $x_{e}$"
   ]
  },
  {
   "cell_type": "code",
   "execution_count": 8,
   "metadata": {},
   "outputs": [
    {
     "data": {
      "image/png": "[encoded data removed]",
      "text/plain": [
       "<Figure size 640x480 with 2 Axes>"
      ]
     },
     "metadata": {},
     "output_type": "display_data"
    }
   ],
   "source": [
    "x_bins = np.logspace(-4, 0, 30) # specify exponents of 10\n",
    "Q2_bins = np.logspace(0, 3, 40) # specify exponents of 10\n",
    "\n",
    "\n",
    "fig2, hist2d =  plt.subplots(nrows=1, ncols=2)\n",
    "\n",
    "hist2d[0].hist2d(xe, xtrue,  bins = [x_bins, x_bins],cmin = 1)\n",
    "hist2d[0].set_xlabel(\"$x_e$\")\n",
    "hist2d[0].set_ylabel(\"$x_{true}$\")\n",
    "hist2d[0].set_yscale(\"log\")\n",
    "hist2d[0].set_xscale(\"log\")\n",
    "\n",
    "\n",
    "hist2d[1].hist2d(xjb, xtrue,  bins = [x_bins, x_bins],cmin = 1)\n",
    "hist2d[1].set_xlabel(\"$x_{JB}$\")\n",
    "hist2d[1].set_ylabel(\"$x_{true}$\")\n",
    "hist2d[1].set_yscale(\"log\")\n",
    "hist2d[1].set_xscale(\"log\")\n",
    "\n",
    "plt.subplots_adjust(left=0.1, bottom=0.3, right=1.3, top=0.9, wspace=0.4, hspace=0.4)\n"
   ]
  },
  {
   "cell_type": "markdown",
   "metadata": {},
   "source": [
    "## Comparing $Q^2$"
   ]
  },
  {
   "cell_type": "markdown",
   "metadata": {},
   "source": [
    "### $Q^2_{true}$ vs. $Q^2_{JB}$ and $Q^2_{e}$"
   ]
  },
  {
   "cell_type": "code",
   "execution_count": 9,
   "metadata": {},
   "outputs": [
    {
     "data": {
      "text/plain": [
       "Text(0, 0.5, '$Q^2_{JB}$')"
      ]
     },
     "execution_count": 9,
     "metadata": {},
     "output_type": "execute_result"
    },
    {
     "data": {
      "image/png": "[encoded data removed]",
      "text/plain": [
       "<Figure size 640x480 with 1 Axes>"
      ]
     },
     "metadata": {},
     "output_type": "display_data"
    }
   ],
   "source": [
    "\n",
    "Q2_bins = np.logspace(0, 3, 40) # specify exponents of 10\n",
    "\n",
    "plt.hist2d(Q2e, Q2jb, bins = [Q2_bins, Q2_bins],cmin = 1)\n",
    "plt.xscale('log')\n",
    "plt.yscale('log')\n",
    "plt.xlabel('$Q^2_e$')\n",
    "plt.ylabel('$Q^2_{JB}$')"
   ]
  },
  {
   "cell_type": "markdown",
   "metadata": {},
   "source": [
    "### $Q^2_{true}$ vs. $Q^2_{JB}$ and $Q^2_{e}$"
   ]
  },
  {
   "cell_type": "code",
   "execution_count": 79,
   "metadata": {},
   "outputs": [
    {
     "data": {
      "image/png": "[encoded data removed]",
      "text/plain": [
       "<Figure size 640x480 with 3 Axes>"
      ]
     },
     "metadata": {},
     "output_type": "display_data"
    }
   ],
   "source": [
    "\n",
    "Q2_bins = np.logspace(0, 3, 40) # specify exponents of 10\n",
    "\n",
    "\n",
    "fig2, hist2d =  plt.subplots(nrows=1, ncols=3)\n",
    "\n",
    "hist2d[0].hist2d(Q2e, Q2true,  bins = [Q2_bins, Q2_bins],cmin = 1)\n",
    "hist2d[0].set_xlabel(\"$Q^2_e$\")\n",
    "hist2d[0].set_ylabel(\"$Q^2_{true}$\")\n",
    "hist2d[0].set_yscale(\"log\")\n",
    "hist2d[0].set_xscale(\"log\")\n",
    "\n",
    "\n",
    "hist2d[1].hist2d(Q2jb, Q2true,  bins = [Q2_bins, Q2_bins],cmin = 1)\n",
    "hist2d[1].set_xlabel(\"$Q^2_{JB}$\")\n",
    "hist2d[1].set_ylabel(\"$Q^2_{true}$\")\n",
    "hist2d[1].set_yscale(\"log\")\n",
    "hist2d[1].set_xscale(\"log\")\n",
    "\n",
    "\n",
    "hist2d[2].hist2d(aiOPQ2, aiTrueQ2,  bins = [Q2_bins, Q2_bins],cmin = 1)\n",
    "hist2d[2].set_xlabel(\"$Q^2_{ANN}$\")\n",
    "hist2d[2].set_ylabel(\"$Q^2_{true}$\")\n",
    "hist2d[2].set_yscale(\"log\")\n",
    "hist2d[2].set_xscale(\"log\")\n",
    "\n",
    "plt.subplots_adjust(left=0.1, bottom=0.5, right=1.3, top=0.9, wspace=0.4, hspace=0.4)"
   ]
  },
  {
   "cell_type": "markdown",
   "id": "a603e492",
   "metadata": {},
   "source": [
    "## Comparing $Q^2$ vs $x$"
   ]
  },
  {
   "cell_type": "code",
   "execution_count": 86,
   "id": "1e26a9a2",
   "metadata": {},
   "outputs": [
    {
     "data": {
      "text/plain": [
       "Text(0, 0.5, '$x$')"
      ]
     },
     "execution_count": 86,
     "metadata": {},
     "output_type": "execute_result"
    },
    {
     "data": {
      "image/png": "[encoded data removed]",
      "text/plain": [
       "<Figure size 640x480 with 1 Axes>"
      ]
     },
     "metadata": {},
     "output_type": "display_data"
    }
   ],
   "source": [
    "plt.hist2d(xtrue, Q2true, bins = [x_bins, Q2_bins],cmin = 1)\n",
    "plt.title(f\"{E}x{Ep} GeV\")\n",
    "plt.xscale('log')\n",
    "plt.yscale('log')\n",
    "plt.xlabel('$Q^2$')\n",
    "plt.ylabel('$x$')"
   ]
  },
  {
   "cell_type": "markdown",
   "metadata": {},
   "source": [
    "# Final Conclusions"
   ]
  },
  {
   "cell_type": "code",
   "execution_count": 78,
   "id": "0b3f4745",
   "metadata": {},
   "outputs": [
    {
     "name": "stderr",
     "output_type": "stream",
     "text": [
      "[distfit] >INFO> fit\n",
      "[distfit] >INFO> transform\n"
     ]
    },
    {
     "name": "stderr",
     "output_type": "stream",
     "text": [
      "[distfit] >INFO> [norm      ] [0.00 sec] [RSS: 0.0437991] [loc=0.951 scale=91.841]\n",
      "[distfit] >INFO> [expon     ] [0.00 sec] [RSS: 0.0480161] [loc=-451.711 scale=452.662]\n",
      "[distfit] >INFO> [pareto    ] [0.00 sec] [RSS: 0.0480161] [loc=-68719477187.711 scale=68719476736.000]\n",
      "[distfit] >INFO> [dweibull  ] [0.13 sec] [RSS: 0.000856699] [loc=0.001 scale=8.072]\n"
     ]
    },
    {
     "name": "stdout",
     "output_type": "stream",
     "text": [
      "   \tMu\tStd\n",
      "ES:\t0.951\t91.841\n"
     ]
    },
    {
     "name": "stderr",
     "output_type": "stream",
     "text": [
      "[distfit] >INFO> [t         ] [0.14 sec] [RSS: 0.0156245] [loc=-0.265 scale=3.800]\n",
      "[distfit] >INFO> [genextreme] [0.21 sec] [RSS: 0.0444824] [loc=-26.453 scale=96.087]\n",
      "[distfit] >INFO> [gamma     ] [0.10 sec] [RSS: 0.0484805] [loc=-249.707 scale=3.800]\n",
      "[distfit] >INFO> [lognorm   ] [0.05 sec] [RSS: 0.0670121] [loc=-451.711 scale=3.273]\n",
      "[distfit] >INFO> [beta      ] [0.14 sec] [RSS: 0.0407494] [loc=-515.559 scale=468170732.469]\n",
      "[distfit] >INFO> [uniform   ] [0.00 sec] [RSS: 0.0483367] [loc=-451.711 scale=6147.978]\n",
      "[distfit] >INFO> [loggamma  ] [0.03 sec] [RSS: 0.0455122] [loc=-67470.502 scale=8368.393]\n",
      "[distfit] >INFO> Compute confidence intervals [parametric]\n",
      "[distfit] >INFO> Cleaning previous fitted model results.\n",
      "[distfit] >INFO> fit\n",
      "[distfit] >INFO> transform\n",
      "[distfit] >INFO> [norm      ] [0.00 sec] [RSS: 0.0147873] [loc=-10.744 scale=191.814]\n",
      "[distfit] >INFO> [expon     ] [0.00 sec] [RSS: 0.0161365] [loc=-458.402 scale=447.657]\n",
      "[distfit] >INFO> [pareto    ] [0.00 sec] [RSS: 0.0161365] [loc=-34359738826.402 scale=34359738368.000]\n",
      "[distfit] >INFO> [dweibull  ] [0.14 sec] [RSS: 0.00630644] [loc=-9.429 scale=127.616]\n"
     ]
    },
    {
     "name": "stdout",
     "output_type": "stream",
     "text": [
      "JB:\t-10.744\t191.814\n"
     ]
    },
    {
     "name": "stderr",
     "output_type": "stream",
     "text": [
      "[distfit] >INFO> [t         ] [0.21 sec] [RSS: 0.000305728] [loc=-10.237 scale=7.524]\n",
      "[distfit] >INFO> [genextreme] [0.21 sec] [RSS: 0.0165729] [loc=-276.837 scale=141.934]\n",
      "[distfit] >INFO> [gamma     ] [0.10 sec] [RSS: 0.0164806] [loc=-258.633 scale=19.881]\n",
      "[distfit] >INFO> [lognorm   ] [0.04 sec] [RSS: 0.0242351] [loc=-458.402 scale=49.857]\n",
      "[distfit] >INFO> [beta      ] [0.14 sec] [RSS: 0.010977] [loc=-522.095 scale=812040264.004]\n",
      "[distfit] >INFO> [uniform   ] [0.00 sec] [RSS: 0.0164349] [loc=-458.402 scale=13972.646]\n",
      "[distfit] >INFO> [loggamma  ] [0.03 sec] [RSS: 0.0155043] [loc=-92646.516 scale=12784.861]\n",
      "[distfit] >INFO> Compute confidence intervals [parametric]\n",
      "[distfit] >INFO> Cleaning previous fitted model results.\n",
      "[distfit] >INFO> fit\n",
      "[distfit] >INFO> transform\n",
      "[distfit] >INFO> [norm      ] [0.00 sec] [RSS: 0.0144889] [loc=-5.053 scale=24.788]\n",
      "[distfit] >INFO> [expon     ] [0.0 sec] [RSS: 0.0221781] [loc=-314.188 scale=309.135]\n",
      "[distfit] >INFO> [pareto    ] [0.0 sec] [RSS: 0.0221781] [loc=-34359738682.188 scale=34359738368.000]\n",
      "[distfit] >INFO> [dweibull  ] [0.03 sec] [RSS: 0.00283463] [loc=-0.086 scale=8.444]\n",
      "[distfit] >INFO> [t         ] [0.05 sec] [RSS: 0.00131301] [loc=-0.122 scale=3.190]\n"
     ]
    },
    {
     "name": "stdout",
     "output_type": "stream",
     "text": [
      "NN:\t-5.053\t24.788\n"
     ]
    },
    {
     "name": "stderr",
     "output_type": "stream",
     "text": [
      "[distfit] >INFO> [genextreme] [0.12 sec] [RSS: 0.0267709] [loc=88.080 scale=4.243]\n",
      "[distfit] >INFO> [gamma     ] [0.03 sec] [RSS: 0.0226488] [loc=-314.188 scale=4.957]\n",
      "[distfit] >INFO> [lognorm   ] [0.03 sec] [RSS: 0.0312546] [loc=-314.188 scale=5.081]\n",
      "[distfit] >INFO> [beta      ] [0.08 sec] [RSS: 0.0138585] [loc=-53309866.501 scale=53310005.905]\n",
      "[distfit] >INFO> [uniform   ] [0.0 sec] [RSS: 0.0213648] [loc=-314.188 scale=402.974]\n",
      "[distfit] >INFO> [loggamma  ] [0.00 sec] [RSS: 0.0135326] [loc=-97.994 scale=53.135]\n",
      "[distfit] >INFO> Compute confidence intervals [parametric]\n"
     ]
    },
    {
     "data": {
      "image/png": "[encoded data removed]",
      "text/plain": [
       "<Figure size 640x480 with 3 Axes>"
      ]
     },
     "metadata": {},
     "output_type": "display_data"
    }
   ],
   "source": [
    "from scipy.stats import norm, weibull_min\n",
    "from distfit import distfit\n",
    "\n",
    "binCount = 50\n",
    "\n",
    "fig2, hist1d =  plt.subplots(nrows=1, ncols=3)\n",
    "\n",
    "# electron\n",
    "data = np.array(Q2e) - np.array(Q2true)\n",
    "\n",
    "mu, std = norm.fit(data)\n",
    "print(\"   \", \"Mu\", \"Std\", sep = \"\\t\")\n",
    "print(\"ES:\", round(mu,3), round(std,3), sep = \"\\t\")\n",
    "\n",
    "hist1d[0].hist(data, bins=binCount, density=True, alpha=0.6, color='b', range = [-150,150])\n",
    "xmin, xmax = -100, 100\n",
    "x = np.linspace(xmin, xmax, 100)\n",
    "\n",
    "dist = distfit()\n",
    "\n",
    "# Determine best-fitting probability distribution for data\n",
    "r = dist.fit_transform(data)\n",
    "p = dist.model['model'].pdf(x)\n",
    "\n",
    "#p = norm.pdf(x, mu, std)\n",
    "hist1d[0].plot(x, p, 'k', linewidth=2)\n",
    "hist1d[0].set_xlim([-150,150])\n",
    "hist1d[0].set_ylim([0,0.07])\n",
    "\n",
    "\n",
    "\n",
    "title = \"$Q^2_e - Q^2_{true}$\"\n",
    "hist1d[0].set_title(title)\n",
    "\n",
    "\n",
    "# Hadronic final state\n",
    "data2 = np.array(Q2jb) - np.array(Q2true)\n",
    "\n",
    "mu, std = norm.fit(data2)\n",
    "print(\"JB:\", round(mu,3), round(std,3), sep = \"\\t\")\n",
    "\n",
    "hist1d[1].hist(data2, bins=binCount, density=True, alpha=0.6, color='b', range = [-150,150])\n",
    "xmin, xmax = -100, 100\n",
    "x = np.linspace(xmin, xmax, 100)\n",
    "\n",
    "r = dist.fit_transform(data2)\n",
    "p = dist.model['model'].pdf(x)\n",
    "\n",
    "hist1d[1].plot(x, p, 'k', linewidth=2)\n",
    "hist1d[1].set_xlim([-150,150])\n",
    "hist1d[1].set_ylim([0,0.07])\n",
    "\n",
    "\n",
    "title = \"$Q^2_{JB} - Q^2_{true}$\"\n",
    "hist1d[1].set_title(title)\n",
    "\n",
    "# aiOPQ2, aiTrueQ2\n",
    "data3 = np.array(aiOPQ2) - np.array(aiTrueQ2)\n",
    "\n",
    "mu, std = norm.fit(data3)\n",
    "print(\"NN:\", round(mu,3), round(std,3), sep = \"\\t\")\n",
    "\n",
    "hist1d[2].hist(data3, bins=binCount, density=True, alpha=0.6, color='b', range = [-150,150])\n",
    "xmin, xmax = -100, 100\n",
    "x = np.linspace(xmin, xmax, 100)\n",
    "\n",
    "r = dist.fit_transform(data3)\n",
    "p = dist.model['model'].pdf(x)\n",
    "\n",
    "hist1d[2].plot(x, p, 'k', linewidth=2)\n",
    "hist1d[2].set_xlim([-150,150])\n",
    "hist1d[2].set_ylim([0,0.07])\n",
    "\n",
    "\n",
    "title = \"$Q^2_{AI} - Q^2_{true}$\"\n",
    "hist1d[2].set_title(title)\n",
    "\n",
    "\n",
    "\n",
    "plt.subplots_adjust(left=0.1, bottom=0.3, right=1.3, top=0.9, wspace=0.4, hspace=0.4)"
   ]
  }
 ],
 "metadata": {
  "kernelspec": {
   "display_name": "Python 3 (ipykernel)",
   "language": "python",
   "name": "python3"
  },
  "language_info": {
   "codemirror_mode": {
    "name": "ipython",
    "version": 3
   },
   "file_extension": ".py",
   "mimetype": "text/x-python",
   "name": "python",
   "nbconvert_exporter": "python",
   "pygments_lexer": "ipython3",
   "version": "3.11.7"
  }
 },
 "nbformat": 4,
 "nbformat_minor": 5
}
