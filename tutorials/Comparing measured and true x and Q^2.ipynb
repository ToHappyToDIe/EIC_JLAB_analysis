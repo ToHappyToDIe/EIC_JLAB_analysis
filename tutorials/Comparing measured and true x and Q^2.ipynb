{
 "cells": [
  {
   "cell_type": "markdown",
   "id": "f2d456fdcd86663f",
   "metadata": {},
   "source": [
    "# Comparing Measured and True x and Q<sup>2</sup>"
   ]
  },
  {
   "cell_type": "markdown",
   "id": "5c50cd5917aee069",
   "metadata": {},
   "source": [
    "One of the main goals of analysis of simulated data is to determine how well we will be able to measure the quantities we set out to measure. Since we have access to 'truth' information as well as the 'observed' quantities for the same event, we can make simple comparison."
   ]
  },
  {
   "cell_type": "markdown",
   "id": "13193146a5ceb169",
   "metadata": {},
   "source": [
    "Let us start again from the $x$ and $Q^2$ calculations in a previous notebook."
   ]
  },
  {
   "cell_type": "markdown",
   "id": "described-kernel",
   "metadata": {},
   "source": [
    "## Importing packages"
   ]
  },
  {
   "attachments": {},
   "cell_type": "markdown",
   "id": "indoor-desperate",
   "metadata": {},
   "source": [
    "Depending on the versions of uproot and XRootD that you have installed, you may encouter a warning from uproot below. Nevertheless, because of the simple data format of the ePIC ROOT files, we are able to ignore this warning."
   ]
  },
  {
   "cell_type": "code",
   "execution_count": null,
   "id": "crazy-lambda",
   "metadata": {
    "trusted": true
   },
   "outputs": [],
   "source": [
    "import os\n",
    "import numpy as np\n",
    "import uproot as ur\n",
    "import awkward as ak\n",
    "import matplotlib.pyplot as plt"
   ]
  },
  {
   "cell_type": "markdown",
   "id": "differential-pierce",
   "metadata": {},
   "source": [
    "## Opening a file with uproot"
   ]
  },
  {
   "cell_type": "markdown",
   "id": "thick-mozambique",
   "metadata": {},
   "source": [
    "To test uproot, we will open a sample file (a DIS simulation sample):"
   ]
  },
  {
   "cell_type": "code",
   "execution_count": null,
   "id": "a46335f8",
   "metadata": {},
   "outputs": [],
   "source": [
    "file_path = 'C:/Users/eholt/OneDrive/Documents/school/mentorship/EIC_JLAB_analysis/data/pythia8NCDIS_18x275_minQ2=10_beamEffects_xAngle=-0.025_hiDiv_1.0000.eicrecon.tree.edm4eic.root'\n"
   ]
  },
  {
   "cell_type": "code",
   "execution_count": null,
   "id": "wicked-amsterdam",
   "metadata": {
    "trusted": true
   },
   "outputs": [],
   "source": [
    "events = ur.open(file_path + ':events')"
   ]
  },
  {
   "cell_type": "markdown",
   "id": "bright-ferry",
   "metadata": {},
   "source": [
    "## Accessing the reconstructed particle momentum"
   ]
  },
  {
   "cell_type": "markdown",
   "id": "living-architecture",
   "metadata": {},
   "source": [
    "For this analysis we will only use the three-momentum `p` and the particle identication code `pid`. We will select only electrons (`pid == 11`) and combine them with their initial momentum $\\vec{p}_0$ which, in the ATHENA coordinate system, is in the negative $z$ direction by definition."
   ]
  },
  {
   "cell_type": "code",
   "execution_count": null,
   "id": "a3658175",
   "metadata": {},
   "outputs": [],
   "source": [
    "reconstructed_charged_particles = events['ReconstructedChargedParticles'].arrays()"
   ]
  },
  {
   "cell_type": "code",
   "execution_count": null,
   "id": "76ff5666",
   "metadata": {},
   "outputs": [],
   "source": [
    "kp1, kp2, kp3 = reconstructed_charged_particles['ReconstructedChargedParticles.momentum.x'], reconstructed_charged_particles['ReconstructedChargedParticles.momentum.y'], reconstructed_charged_particles['ReconstructedChargedParticles.momentum.z']\n",
    "PDG = reconstructed_charged_particles['ReconstructedChargedParticles.PDG']\n",
    "m = reconstructed_charged_particles['ReconstructedChargedParticles.mass']"
   ]
  },
  {
   "cell_type": "markdown",
   "id": "c075d4ecf281e6a9",
   "metadata": {},
   "source": [
    "## Determining the momentum transfer $Q^2$"
   ]
  },
  {
   "cell_type": "markdown",
   "id": "small-queensland",
   "metadata": {},
   "source": [
    "For all particles we can calculate the energy, which we will consider the zeroth component of the four-momentum $p$."
   ]
  },
  {
   "cell_type": "code",
   "execution_count": null,
   "id": "collect-secondary",
   "metadata": {
    "trusted": true
   },
   "outputs": [],
   "source": [
    "kp0 = np.sqrt(m**2+(kp1**2+kp2**2+kp3**2))"
   ]
  },
  {
   "cell_type": "markdown",
   "id": "50a9d2946ce97d49",
   "metadata": {},
   "source": [
    "The four-momentum of the incoming electron beam has only a $p_z$ and $E$ component."
   ]
  },
  {
   "cell_type": "code",
   "execution_count": null,
   "id": "adacdf23629a3019",
   "metadata": {
    "trusted": true
   },
   "outputs": [],
   "source": [
    "k3 = -18\n",
    "m0 = 0.000511\n",
    "k0 = np.sqrt(m0**2 + k3**2)"
   ]
  },
  {
   "cell_type": "markdown",
   "id": "d0ef3da7983e4252",
   "metadata": {},
   "source": [
    "We can now calculate the components of the four-momentum transfer $q_\\mu = (k_\\mu - k'_\\mu)$:"
   ]
  },
  {
   "cell_type": "code",
   "execution_count": null,
   "id": "boring-testing",
   "metadata": {
    "trusted": true
   },
   "outputs": [],
   "source": [
    "q0 = k0 - kp0\n",
    "q1 =    - kp1\n",
    "q2 =    - kp2\n",
    "q3 = k3 - kp3"
   ]
  },
  {
   "cell_type": "markdown",
   "id": "d6b8807417249be5",
   "metadata": {},
   "source": [
    "With the four components we can form the squared four-momentum transfer, a scalar quantity, which is $Q^2 = -q^2$:"
   ]
  },
  {
   "cell_type": "code",
   "execution_count": null,
   "id": "15fe7dbaaeb1428f",
   "metadata": {
    "trusted": true
   },
   "outputs": [],
   "source": [
    "Q2 = -(q0**2 - q1**2 - q2**2 - q3**2)"
   ]
  },
  {
   "cell_type": "markdown",
   "id": "50e60b87db47a72",
   "metadata": {},
   "source": [
    "## Determining the momentum fraction $x$"
   ]
  },
  {
   "cell_type": "markdown",
   "id": "107606c1a107936b",
   "metadata": {},
   "source": [
    "In order to determine $x$ we also need the incoming proton momentum $\\vec{p}$. While it might be appealing to think that the proton momentum must be exactly along the $z$ axis as well, this is not the case in the interaction points of the EIC. At interaction point 6 (IP6), the crossing angle is -25 mrad in the $xz$ plane. Thus, the proton four-momentum is:"
   ]
  },
  {
   "cell_type": "code",
   "execution_count": null,
   "id": "a972584e2485f1c1",
   "metadata": {
    "trusted": true
   },
   "outputs": [],
   "source": [
    "alpha = -0.025\n",
    "p1 = 275 * np.sin(alpha)\n",
    "p2 = 0\n",
    "p3 = 275 * np.cos(alpha)\n",
    "p0 = np.sqrt(0.938**2 + p1**2 + p2**2 + p3**2)"
   ]
  },
  {
   "cell_type": "markdown",
   "id": "6cc254836039074c",
   "metadata": {},
   "source": [
    "With this proton four-momentum we can now calculate the product $p \\cdot q$, another scalar quantity:"
   ]
  },
  {
   "cell_type": "code",
   "execution_count": null,
   "id": "2fa66e3449594e34",
   "metadata": {
    "trusted": true
   },
   "outputs": [],
   "source": [
    "pq = p0 * q0 - p1 * q1 - p2 * q2 - p3 * q3"
   ]
  },
  {
   "cell_type": "markdown",
   "id": "31aab1b0376faf47",
   "metadata": {},
   "source": [
    "and finally also $x = \\frac{Q^2}{2 pq}$:"
   ]
  },
  {
   "cell_type": "code",
   "execution_count": null,
   "id": "d81d1051eff1195b",
   "metadata": {
    "trusted": true
   },
   "outputs": [],
   "source": [
    "x = 0.5 * Q2 / pq"
   ]
  },
  {
   "cell_type": "markdown",
   "id": "13a384ee4112fadf",
   "metadata": {},
   "source": [
    "## Determining the true $x$ "
   ]
  },
  {
   "attachments": {},
   "cell_type": "markdown",
   "id": "d97c071a5e17b00a",
   "metadata": {},
   "source": [
    "Because we have access to the `MCParticles` branch, we can determine the 'true' $x$. For the sake of this tutorial, let's use the lab frame quantities to construct that value of $x$."
   ]
  },
  {
   "cell_type": "code",
   "execution_count": null,
   "id": "352cf0a5b7a0dd87",
   "metadata": {
    "trusted": true
   },
   "outputs": [],
   "source": [
    "pdgID = events['MCParticles.PDG'].array()\n",
    "status = events['MCParticles.generatorStatus'].array()\n",
    "psx,psy,psz = events['MCParticles.momentum.x'].array(), events['MCParticles.momentum.y'].array(), events['MCParticles.momentum.z'].array()"
   ]
  },
  {
   "cell_type": "markdown",
   "id": "1756bbe3912603e",
   "metadata": {},
   "source": [
    "We can calculate the lab angles, and electron energies. Those give us the true $Q^2$."
   ]
  },
  {
   "cell_type": "code",
   "execution_count": null,
   "id": "ce40dd2851664ec4",
   "metadata": {
    "trusted": true
   },
   "outputs": [],
   "source": [
    "E = 18\n",
    "Ep = np.sqrt(0.000511**2 + psx**2 + psy**2 + psz**2)\n",
    "theta = np.arctan2(np.sqrt(psx**2 + psy**2), psz)\n",
    "Q2_true = 2 * E * Ep * (1 + np.cos(theta))"
   ]
  },
  {
   "cell_type": "markdown",
   "id": "9b6c585e123c1fde",
   "metadata": {},
   "source": [
    "We can also calculate the true $y$, the center of mass energy $s$, and the true $x$."
   ]
  },
  {
   "cell_type": "code",
   "execution_count": null,
   "id": "deb3196a916274ec",
   "metadata": {
    "trusted": true
   },
   "outputs": [],
   "source": [
    "y_true = 1 - 0.5 * Ep / E * (1 - np.cos(theta))\n",
    "s = 4 * 18 * 275\n",
    "x_true = Q2_true / s / y_true"
   ]
  },
  {
   "cell_type": "code",
   "execution_count": null,
   "id": "f4ca865c95961635",
   "metadata": {
    "trusted": true
   },
   "outputs": [],
   "source": [
    "np.sqrt(s)"
   ]
  },
  {
   "cell_type": "markdown",
   "id": "abc179ceb02133d6",
   "metadata": {},
   "source": [
    "We still have to select our primary events: all calculations above also included protons, pions, and even particles that are internal to the generator and never intended to be simulated."
   ]
  },
  {
   "cell_type": "code",
   "execution_count": null,
   "id": "9d7a3ffdd86f6bfe",
   "metadata": {
    "trusted": true
   },
   "outputs": [],
   "source": [
    "select = np.logical_and((status == 1), (pdgID == 11))"
   ]
  },
  {
   "cell_type": "markdown",
   "id": "5386b3f8c28acf1b",
   "metadata": {},
   "source": [
    "## Comparing the true $x$ and observed $x$"
   ]
  },
  {
   "cell_type": "markdown",
   "id": "a7e256c442a29bec",
   "metadata": {},
   "source": [
    "So, how well did we do? Let's take a look at the numbers first."
   ]
  },
  {
   "cell_type": "code",
   "execution_count": null,
   "id": "4f403d150418d992",
   "metadata": {
    "trusted": true
   },
   "outputs": [],
   "source": [
    "print(x[PDG == 11])\n",
    "print(x_true[select])"
   ]
  },
  {
   "cell_type": "code",
   "execution_count": null,
   "id": "a14b62284a69accd",
   "metadata": {
    "trusted": true
   },
   "outputs": [],
   "source": [
    "print(Q2[PDG == 11])\n",
    "print(Q2_true[select])"
   ]
  },
  {
   "cell_type": "markdown",
   "id": "50148af19bc4f553",
   "metadata": {},
   "source": [
    "We notice that the values are clearly not 100% identical, but we notice a few other things as well:\n",
    "- There are multiple electrons in each events, and we have to make sure we compare the same values.\n",
    "- There are even negative signs for $x$.\n",
    "\n",
    "Whereas the mathematical calculation of $x$ for a scattered electron guarantees a value between 0 and 1, that is not true anymore when we combine measured momenta (which can be reconstructed as larger than the beam energy due to resolution effects), or when angles can be reconstructed differently from the actual scattering angle."
   ]
  },
  {
   "cell_type": "markdown",
   "id": "2414bedd4735202c",
   "metadata": {},
   "source": [
    "If we wish to plot the observed and true values of $x$ with respect to each others, we will need to ensure that the two structures are identical: one and only one entry per event, or none at all for either. Let's use the electron with the largest $Q^2$ in each event."
   ]
  },
  {
   "cell_type": "code",
   "execution_count": null,
   "id": "8a0926e48d21f48c",
   "metadata": {
    "trusted": true
   },
   "outputs": [],
   "source": [
    "Q2_true_largest = ak.to_numpy(ak.max(Q2_true[select],1))\n",
    "Q2_meas_largest = ak.to_numpy(ak.max(Q2[PDG == 11],1))\n",
    "Q2_ratio_meas_to_true = Q2_meas_largest / Q2_true_largest"
   ]
  },
  {
   "cell_type": "code",
   "execution_count": null,
   "id": "e5e0c18be5d92d28",
   "metadata": {
    "trusted": true
   },
   "outputs": [],
   "source": [
    "plt.hist(Q2_ratio_meas_to_true, range=[0.9, 1.1], bins = 20)\n",
    "plt.yscale('log')\n",
    "plt.xlabel('meas $Q^2$ / true $Q^2$')\n",
    "plt.ylabel('Number of events')\n",
    "plt.show()"
   ]
  },
  {
   "cell_type": "code",
   "execution_count": null,
   "id": "b70bf4fbe5089249",
   "metadata": {
    "trusted": true
   },
   "outputs": [],
   "source": [
    "Q2_bins = np.linspace(1e0,1e2,20)\n",
    "plt.hist2d(Q2_true_largest, Q2_meas_largest, bins = [Q2_bins, Q2_bins])\n",
    "plt.xlabel('true $Q^2$ [GeV$^2$]')\n",
    "plt.ylabel('meas $Q^2$ [GeV$^2$]')\n",
    "plt.show()"
   ]
  },
  {
   "cell_type": "markdown",
   "id": "e46c8855169fdeb5",
   "metadata": {},
   "source": [
    "Now we have to get the $x$ values to use the corresponding values."
   ]
  },
  {
   "cell_type": "code",
   "execution_count": null,
   "id": "df27e24dc263ec7a",
   "metadata": {
    "trusted": true
   },
   "outputs": [],
   "source": [
    "x_true_largestQ2 = x_true[Q2_true==ak.max(Q2_true[select],1)]\n",
    "x_meas_largestQ2 = np.array(ak.to_numpy(x[Q2==ak.max(Q2[PDG==11],1)]))\n",
    "x_ratio_meas_to_true = x_meas_largestQ2 / x_true_largestQ2"
   ]
  },
  {
   "cell_type": "markdown",
   "id": "693ad0f2beb075b6",
   "metadata": {},
   "source": [
    "We can now plot both a histogram of the ratio and another scatter plot."
   ]
  },
  {
   "cell_type": "code",
   "execution_count": null,
   "id": "2be65254ecb28821",
   "metadata": {
    "trusted": true
   },
   "outputs": [],
   "source": [
    "plt.hist(ak.flatten(x_ratio_meas_to_true), range=[0.5, 1.5], bins = 20)\n",
    "plt.yscale('log')\n",
    "plt.xlabel('meas $x$ / true $x$')\n",
    "plt.ylabel('Number of events')\n",
    "plt.show()"
   ]
  },
  {
   "cell_type": "code",
   "execution_count": null,
   "id": "3af7fe38b2c80f7b",
   "metadata": {
    "trusted": true
   },
   "outputs": [],
   "source": [
    "x_bins = np.logspace(-3,0,30)\n",
    "x_data =  ak.to_numpy(x_true_largestQ2[:,0])\n",
    "y_data = x_meas_largestQ2[:,0]\n"
   ]
  },
  {
   "cell_type": "code",
   "execution_count": null,
   "id": "b16de9b0e1bbb333",
   "metadata": {
    "collapsed": false
   },
   "outputs": [],
   "source": [
    "plt.hist2d(x_data, y_data, bins =[x_bins, x_bins])\n",
    "plt.xscale('log')\n",
    "plt.yscale('log')\n",
    "plt.xlabel('true x')\n",
    "plt.ylabel('meas x')\n",
    "plt.show()"
   ]
  },
  {
   "attachments": {},
   "cell_type": "markdown",
   "id": "fb5d1d29",
   "metadata": {},
   "source": [
    "# What's next in simulation, reconstruction, and analysis?"
   ]
  },
  {
   "attachments": {},
   "cell_type": "markdown",
   "id": "94d174ab",
   "metadata": {},
   "source": [
    "- Developing a better \"electron finding\" algorithm.\n",
    "- Other methods of reconstructing $x$ and $Q^2$: $\\Sigma$ and $e\\Sigma$ methods, Jacquet-Blondel method,...\n",
    "- Implementing \"unfolding\" of $x$ and $Q^2$-dependent quantities based on the off-diagonal elements in the correlation plots above."
   ]
  },
  {
   "cell_type": "code",
   "execution_count": null,
   "id": "ecee6fcc37dd65f4",
   "metadata": {
    "trusted": true
   },
   "outputs": [],
   "source": []
  }
 ],
 "metadata": {
  "kernelspec": {
   "display_name": "Python 3 (ipykernel)",
   "language": "python",
   "name": "python3"
  },
  "language_info": {
   "codemirror_mode": {
    "name": "ipython",
    "version": 3
   },
   "file_extension": ".py",
   "mimetype": "text/x-python",
   "name": "python",
   "nbconvert_exporter": "python",
   "pygments_lexer": "ipython3",
   "version": "3.10.8"
  }
 },
 "nbformat": 4,
 "nbformat_minor": 5
}
